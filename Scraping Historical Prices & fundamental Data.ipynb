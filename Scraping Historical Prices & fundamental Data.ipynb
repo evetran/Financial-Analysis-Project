{
 "cells": [
  {
   "cell_type": "markdown",
   "metadata": {},
   "source": [
    "## Create Stock Price DataBase with Python & SQL"
   ]
  },
  {
   "cell_type": "markdown",
   "metadata": {},
   "source": [
    "### Contents:\n",
    "\n",
    "1. Create functions\n",
    "2. Dow Jones Industrial Average (DJIA)\n",
    "    - Scrape ticker lists from Wikipedia \n",
    "    - Download historical data from from Yahoo! Finance's API \n",
    "3. S&P/TSX60 \n",
    "    - Scrape ticker lists from Wikipedia\n",
    "    - Cleaning data for ticker lists to meet Yahoo! Finance's API\n",
    "    - Download historical data from from Yahoo! Finance's API\n",
    "4. Download fundamental data from Yahoo! Finance's API\n",
    "5. Market information\n",
    "    - Download historical market data for some important indexes\n",
    "6. Create and import data into SQLite database\n",
    "\n",
    "I am going to use this data for building a financial Analysis Dashboard on Power Bi and answer some questions about financial analysis using SQL"
   ]
  },
  {
   "cell_type": "code",
   "execution_count": 1,
   "metadata": {},
   "outputs": [],
   "source": [
    "# Import important packages\n",
    "import sqlalchemy\n",
    "import yfinance as yf\n",
    "import pandas as pd"
   ]
  },
  {
   "cell_type": "markdown",
   "metadata": {},
   "source": [
    "##### The yfinance Ticker object:\n",
    "* _start_ and _end_ dates\n",
    "* _period_ instead of start/end\n",
    "* valid periods: 1d, 5d, 1mo, 3mo, 6mo, 1y, 2y, 5y, 10y, ytd, max\n",
    "* valid intervals: 1m, 2m, 5m, 15m, 30m, 60m, 90m, 1h, 1d, 5d, 1w, 1mo, 3mo\n",
    "* _actions=True_: (Optional) inclues info on both dividends and splits.\n",
    "* _prepost=True_: (Optional) download pre/post regular market hours data"
   ]
  },
  {
   "cell_type": "markdown",
   "metadata": {},
   "source": [
    "## 1. Create Functions"
   ]
  },
  {
   "cell_type": "code",
   "execution_count": 2,
   "metadata": {},
   "outputs": [],
   "source": [
    "# Function to collect data\n",
    "def getData(tickers):\n",
    "    data = []\n",
    "    for ticker in tickers:\n",
    "        data.append(yf.download(ticker, period='max').reset_index())\n",
    "    return data\n",
    "\n",
    "\n",
    "#Function to create symbol column and merge multiple data into one dataframe\n",
    "def merge_data(frames, symbols):\n",
    "    for i in range(len(frames)):\n",
    "        frames[i]['Symbol'] = symbols[i]\n",
    "    newframes = [df.set_index(['Date', 'Open', 'High', 'Low', 'Close', 'Adj Close', 'Volume', 'Symbol']) for df in frames]\n",
    "    merged_df = pd.concat(newframes, axis=1).reset_index()\n",
    "    return merged_df\n",
    "\n",
    "\n",
    "#Function to create engine for database\n",
    "def createengine(name):\n",
    "    engine = sqlalchemy.create_engine('sqlite:///' + name +'.db')\n",
    "    return engine\n",
    "\n",
    "\n",
    "#Function to import data to database\n",
    "def toSQL(frames,name_table, engine):\n",
    "    frames.to_sql(name_table, engine, index=False)\n",
    "    print('Successfully imported data')"
   ]
  },
  {
   "cell_type": "markdown",
   "metadata": {},
   "source": []
  },
  {
   "cell_type": "markdown",
   "metadata": {},
   "source": [
    "## 2. Dow Jones Industrial Average (^DJI)"
   ]
  },
  {
   "cell_type": "markdown",
   "metadata": {},
   "source": [
    "### Scrape ticker lists from Wikipedia"
   ]
  },
  {
   "cell_type": "code",
   "execution_count": 3,
   "metadata": {},
   "outputs": [],
   "source": [
    "#Download tickers of ^DJI on wikipedia website\n",
    "wiki = 'https://en.wikipedia.org/wiki/'\n",
    "\n",
    "tickerDOW = pd.read_html(wiki+'Dow_Jones_Industrial_Average')[1].Symbol.to_list()"
   ]
  },
  {
   "cell_type": "markdown",
   "metadata": {},
   "source": [
    "### Using function to download data"
   ]
  },
  {
   "cell_type": "code",
   "execution_count": 4,
   "metadata": {},
   "outputs": [
    {
     "name": "stdout",
     "output_type": "stream",
     "text": [
      "[*********************100%***********************]  1 of 1 completed\n",
      "[*********************100%***********************]  1 of 1 completed\n",
      "[*********************100%***********************]  1 of 1 completed\n",
      "[*********************100%***********************]  1 of 1 completed\n",
      "[*********************100%***********************]  1 of 1 completed\n",
      "[*********************100%***********************]  1 of 1 completed\n",
      "[*********************100%***********************]  1 of 1 completed\n",
      "[*********************100%***********************]  1 of 1 completed\n",
      "[*********************100%***********************]  1 of 1 completed\n",
      "[*********************100%***********************]  1 of 1 completed\n",
      "[*********************100%***********************]  1 of 1 completed\n",
      "[*********************100%***********************]  1 of 1 completed\n",
      "[*********************100%***********************]  1 of 1 completed\n",
      "[*********************100%***********************]  1 of 1 completed\n",
      "[*********************100%***********************]  1 of 1 completed\n",
      "[*********************100%***********************]  1 of 1 completed\n",
      "[*********************100%***********************]  1 of 1 completed\n",
      "[*********************100%***********************]  1 of 1 completed\n",
      "[*********************100%***********************]  1 of 1 completed\n",
      "[*********************100%***********************]  1 of 1 completed\n",
      "[*********************100%***********************]  1 of 1 completed\n",
      "[*********************100%***********************]  1 of 1 completed\n",
      "[*********************100%***********************]  1 of 1 completed\n",
      "[*********************100%***********************]  1 of 1 completed\n",
      "[*********************100%***********************]  1 of 1 completed\n",
      "[*********************100%***********************]  1 of 1 completed\n",
      "[*********************100%***********************]  1 of 1 completed\n",
      "[*********************100%***********************]  1 of 1 completed\n",
      "[*********************100%***********************]  1 of 1 completed\n",
      "[*********************100%***********************]  1 of 1 completed\n"
     ]
    }
   ],
   "source": [
    "USDOWJONES = getData(tickerDOW)"
   ]
  },
  {
   "cell_type": "markdown",
   "metadata": {},
   "source": [
    "Since different ticker have different dataframes, I will create symbol column and merge data into one dataframes"
   ]
  },
  {
   "cell_type": "code",
   "execution_count": 5,
   "metadata": {},
   "outputs": [],
   "source": [
    "new_USDOWJONES = merge_data(USDOWJONES, tickerDOW)"
   ]
  },
  {
   "cell_type": "code",
   "execution_count": 6,
   "metadata": {},
   "outputs": [
    {
     "data": {
      "text/html": [
       "<div>\n",
       "<style scoped>\n",
       "    .dataframe tbody tr th:only-of-type {\n",
       "        vertical-align: middle;\n",
       "    }\n",
       "\n",
       "    .dataframe tbody tr th {\n",
       "        vertical-align: top;\n",
       "    }\n",
       "\n",
       "    .dataframe thead th {\n",
       "        text-align: right;\n",
       "    }\n",
       "</style>\n",
       "<table border=\"1\" class=\"dataframe\">\n",
       "  <thead>\n",
       "    <tr style=\"text-align: right;\">\n",
       "      <th></th>\n",
       "      <th>Date</th>\n",
       "      <th>Open</th>\n",
       "      <th>High</th>\n",
       "      <th>Low</th>\n",
       "      <th>Close</th>\n",
       "      <th>Adj Close</th>\n",
       "      <th>Volume</th>\n",
       "      <th>Symbol</th>\n",
       "    </tr>\n",
       "  </thead>\n",
       "  <tbody>\n",
       "    <tr>\n",
       "      <th>0</th>\n",
       "      <td>1962-01-02</td>\n",
       "      <td>0.000000</td>\n",
       "      <td>4.250000</td>\n",
       "      <td>4.125000</td>\n",
       "      <td>4.156250</td>\n",
       "      <td>0.754036</td>\n",
       "      <td>212800</td>\n",
       "      <td>MMM</td>\n",
       "    </tr>\n",
       "    <tr>\n",
       "      <th>1</th>\n",
       "      <td>1962-01-03</td>\n",
       "      <td>0.000000</td>\n",
       "      <td>4.187500</td>\n",
       "      <td>4.085938</td>\n",
       "      <td>4.187500</td>\n",
       "      <td>0.759705</td>\n",
       "      <td>422400</td>\n",
       "      <td>MMM</td>\n",
       "    </tr>\n",
       "    <tr>\n",
       "      <th>2</th>\n",
       "      <td>1962-01-04</td>\n",
       "      <td>0.000000</td>\n",
       "      <td>4.257813</td>\n",
       "      <td>4.187500</td>\n",
       "      <td>4.187500</td>\n",
       "      <td>0.759705</td>\n",
       "      <td>212800</td>\n",
       "      <td>MMM</td>\n",
       "    </tr>\n",
       "    <tr>\n",
       "      <th>3</th>\n",
       "      <td>1962-01-05</td>\n",
       "      <td>0.000000</td>\n",
       "      <td>4.171875</td>\n",
       "      <td>4.062500</td>\n",
       "      <td>4.078125</td>\n",
       "      <td>0.739862</td>\n",
       "      <td>315200</td>\n",
       "      <td>MMM</td>\n",
       "    </tr>\n",
       "    <tr>\n",
       "      <th>4</th>\n",
       "      <td>1962-01-08</td>\n",
       "      <td>0.000000</td>\n",
       "      <td>4.085938</td>\n",
       "      <td>4.031250</td>\n",
       "      <td>4.054688</td>\n",
       "      <td>0.735611</td>\n",
       "      <td>334400</td>\n",
       "      <td>MMM</td>\n",
       "    </tr>\n",
       "    <tr>\n",
       "      <th>...</th>\n",
       "      <td>...</td>\n",
       "      <td>...</td>\n",
       "      <td>...</td>\n",
       "      <td>...</td>\n",
       "      <td>...</td>\n",
       "      <td>...</td>\n",
       "      <td>...</td>\n",
       "      <td>...</td>\n",
       "    </tr>\n",
       "    <tr>\n",
       "      <th>344591</th>\n",
       "      <td>2022-09-12</td>\n",
       "      <td>137.080002</td>\n",
       "      <td>138.250000</td>\n",
       "      <td>136.970001</td>\n",
       "      <td>138.070007</td>\n",
       "      <td>138.070007</td>\n",
       "      <td>4761500</td>\n",
       "      <td>WMT</td>\n",
       "    </tr>\n",
       "    <tr>\n",
       "      <th>344592</th>\n",
       "      <td>2022-09-13</td>\n",
       "      <td>136.860001</td>\n",
       "      <td>137.949997</td>\n",
       "      <td>134.809998</td>\n",
       "      <td>135.220001</td>\n",
       "      <td>135.220001</td>\n",
       "      <td>5895800</td>\n",
       "      <td>WMT</td>\n",
       "    </tr>\n",
       "    <tr>\n",
       "      <th>344593</th>\n",
       "      <td>2022-09-14</td>\n",
       "      <td>135.630005</td>\n",
       "      <td>136.529999</td>\n",
       "      <td>134.100006</td>\n",
       "      <td>134.919998</td>\n",
       "      <td>134.919998</td>\n",
       "      <td>6644900</td>\n",
       "      <td>WMT</td>\n",
       "    </tr>\n",
       "    <tr>\n",
       "      <th>344594</th>\n",
       "      <td>2022-09-15</td>\n",
       "      <td>135.050003</td>\n",
       "      <td>135.149994</td>\n",
       "      <td>132.970001</td>\n",
       "      <td>133.470001</td>\n",
       "      <td>133.470001</td>\n",
       "      <td>6729800</td>\n",
       "      <td>WMT</td>\n",
       "    </tr>\n",
       "    <tr>\n",
       "      <th>344595</th>\n",
       "      <td>2022-09-16</td>\n",
       "      <td>132.000000</td>\n",
       "      <td>134.550003</td>\n",
       "      <td>131.279999</td>\n",
       "      <td>133.190002</td>\n",
       "      <td>133.190002</td>\n",
       "      <td>13957200</td>\n",
       "      <td>WMT</td>\n",
       "    </tr>\n",
       "  </tbody>\n",
       "</table>\n",
       "<p>344596 rows × 8 columns</p>\n",
       "</div>"
      ],
      "text/plain": [
       "             Date        Open        High         Low       Close   Adj Close  \\\n",
       "0      1962-01-02    0.000000    4.250000    4.125000    4.156250    0.754036   \n",
       "1      1962-01-03    0.000000    4.187500    4.085938    4.187500    0.759705   \n",
       "2      1962-01-04    0.000000    4.257813    4.187500    4.187500    0.759705   \n",
       "3      1962-01-05    0.000000    4.171875    4.062500    4.078125    0.739862   \n",
       "4      1962-01-08    0.000000    4.085938    4.031250    4.054688    0.735611   \n",
       "...           ...         ...         ...         ...         ...         ...   \n",
       "344591 2022-09-12  137.080002  138.250000  136.970001  138.070007  138.070007   \n",
       "344592 2022-09-13  136.860001  137.949997  134.809998  135.220001  135.220001   \n",
       "344593 2022-09-14  135.630005  136.529999  134.100006  134.919998  134.919998   \n",
       "344594 2022-09-15  135.050003  135.149994  132.970001  133.470001  133.470001   \n",
       "344595 2022-09-16  132.000000  134.550003  131.279999  133.190002  133.190002   \n",
       "\n",
       "          Volume Symbol  \n",
       "0         212800    MMM  \n",
       "1         422400    MMM  \n",
       "2         212800    MMM  \n",
       "3         315200    MMM  \n",
       "4         334400    MMM  \n",
       "...          ...    ...  \n",
       "344591   4761500    WMT  \n",
       "344592   5895800    WMT  \n",
       "344593   6644900    WMT  \n",
       "344594   6729800    WMT  \n",
       "344595  13957200    WMT  \n",
       "\n",
       "[344596 rows x 8 columns]"
      ]
     },
     "execution_count": 6,
     "metadata": {},
     "output_type": "execute_result"
    }
   ],
   "source": [
    "new_USDOWJONES"
   ]
  },
  {
   "cell_type": "markdown",
   "metadata": {},
   "source": [
    "Check if the data downloaded is correct or not"
   ]
  },
  {
   "cell_type": "code",
   "execution_count": 7,
   "metadata": {},
   "outputs": [
    {
     "data": {
      "text/html": [
       "<div>\n",
       "<style scoped>\n",
       "    .dataframe tbody tr th:only-of-type {\n",
       "        vertical-align: middle;\n",
       "    }\n",
       "\n",
       "    .dataframe tbody tr th {\n",
       "        vertical-align: top;\n",
       "    }\n",
       "\n",
       "    .dataframe thead th {\n",
       "        text-align: right;\n",
       "    }\n",
       "</style>\n",
       "<table border=\"1\" class=\"dataframe\">\n",
       "  <thead>\n",
       "    <tr style=\"text-align: right;\">\n",
       "      <th></th>\n",
       "      <th>Date</th>\n",
       "      <th>Open</th>\n",
       "      <th>High</th>\n",
       "      <th>Low</th>\n",
       "      <th>Close</th>\n",
       "      <th>Adj Close</th>\n",
       "      <th>Volume</th>\n",
       "      <th>Symbol</th>\n",
       "    </tr>\n",
       "  </thead>\n",
       "  <tbody>\n",
       "    <tr>\n",
       "      <th>0</th>\n",
       "      <td>1962-01-02</td>\n",
       "      <td>0.0</td>\n",
       "      <td>4.250000</td>\n",
       "      <td>4.125000</td>\n",
       "      <td>4.156250</td>\n",
       "      <td>0.754036</td>\n",
       "      <td>212800</td>\n",
       "      <td>MMM</td>\n",
       "    </tr>\n",
       "    <tr>\n",
       "      <th>1</th>\n",
       "      <td>1962-01-03</td>\n",
       "      <td>0.0</td>\n",
       "      <td>4.187500</td>\n",
       "      <td>4.085938</td>\n",
       "      <td>4.187500</td>\n",
       "      <td>0.759705</td>\n",
       "      <td>422400</td>\n",
       "      <td>MMM</td>\n",
       "    </tr>\n",
       "    <tr>\n",
       "      <th>2</th>\n",
       "      <td>1962-01-04</td>\n",
       "      <td>0.0</td>\n",
       "      <td>4.257813</td>\n",
       "      <td>4.187500</td>\n",
       "      <td>4.187500</td>\n",
       "      <td>0.759705</td>\n",
       "      <td>212800</td>\n",
       "      <td>MMM</td>\n",
       "    </tr>\n",
       "    <tr>\n",
       "      <th>3</th>\n",
       "      <td>1962-01-05</td>\n",
       "      <td>0.0</td>\n",
       "      <td>4.171875</td>\n",
       "      <td>4.062500</td>\n",
       "      <td>4.078125</td>\n",
       "      <td>0.739862</td>\n",
       "      <td>315200</td>\n",
       "      <td>MMM</td>\n",
       "    </tr>\n",
       "    <tr>\n",
       "      <th>4</th>\n",
       "      <td>1962-01-08</td>\n",
       "      <td>0.0</td>\n",
       "      <td>4.085938</td>\n",
       "      <td>4.031250</td>\n",
       "      <td>4.054688</td>\n",
       "      <td>0.735611</td>\n",
       "      <td>334400</td>\n",
       "      <td>MMM</td>\n",
       "    </tr>\n",
       "  </tbody>\n",
       "</table>\n",
       "</div>"
      ],
      "text/plain": [
       "        Date  Open      High       Low     Close  Adj Close  Volume Symbol\n",
       "0 1962-01-02   0.0  4.250000  4.125000  4.156250   0.754036  212800    MMM\n",
       "1 1962-01-03   0.0  4.187500  4.085938  4.187500   0.759705  422400    MMM\n",
       "2 1962-01-04   0.0  4.257813  4.187500  4.187500   0.759705  212800    MMM\n",
       "3 1962-01-05   0.0  4.171875  4.062500  4.078125   0.739862  315200    MMM\n",
       "4 1962-01-08   0.0  4.085938  4.031250  4.054688   0.735611  334400    MMM"
      ]
     },
     "execution_count": 7,
     "metadata": {},
     "output_type": "execute_result"
    }
   ],
   "source": [
    "new_USDOWJONES.head()"
   ]
  },
  {
   "cell_type": "code",
   "execution_count": 8,
   "metadata": {},
   "outputs": [
    {
     "name": "stdout",
     "output_type": "stream",
     "text": [
      "[*********************100%***********************]  1 of 1 completed\n"
     ]
    },
    {
     "data": {
      "text/html": [
       "<div>\n",
       "<style scoped>\n",
       "    .dataframe tbody tr th:only-of-type {\n",
       "        vertical-align: middle;\n",
       "    }\n",
       "\n",
       "    .dataframe tbody tr th {\n",
       "        vertical-align: top;\n",
       "    }\n",
       "\n",
       "    .dataframe thead th {\n",
       "        text-align: right;\n",
       "    }\n",
       "</style>\n",
       "<table border=\"1\" class=\"dataframe\">\n",
       "  <thead>\n",
       "    <tr style=\"text-align: right;\">\n",
       "      <th></th>\n",
       "      <th>Date</th>\n",
       "      <th>Open</th>\n",
       "      <th>High</th>\n",
       "      <th>Low</th>\n",
       "      <th>Close</th>\n",
       "      <th>Adj Close</th>\n",
       "      <th>Volume</th>\n",
       "    </tr>\n",
       "  </thead>\n",
       "  <tbody>\n",
       "    <tr>\n",
       "      <th>0</th>\n",
       "      <td>1962-01-02</td>\n",
       "      <td>0.0</td>\n",
       "      <td>4.250000</td>\n",
       "      <td>4.125000</td>\n",
       "      <td>4.156250</td>\n",
       "      <td>0.754035</td>\n",
       "      <td>212800</td>\n",
       "    </tr>\n",
       "    <tr>\n",
       "      <th>1</th>\n",
       "      <td>1962-01-03</td>\n",
       "      <td>0.0</td>\n",
       "      <td>4.187500</td>\n",
       "      <td>4.085938</td>\n",
       "      <td>4.187500</td>\n",
       "      <td>0.759705</td>\n",
       "      <td>422400</td>\n",
       "    </tr>\n",
       "    <tr>\n",
       "      <th>2</th>\n",
       "      <td>1962-01-04</td>\n",
       "      <td>0.0</td>\n",
       "      <td>4.257813</td>\n",
       "      <td>4.187500</td>\n",
       "      <td>4.187500</td>\n",
       "      <td>0.759705</td>\n",
       "      <td>212800</td>\n",
       "    </tr>\n",
       "    <tr>\n",
       "      <th>3</th>\n",
       "      <td>1962-01-05</td>\n",
       "      <td>0.0</td>\n",
       "      <td>4.171875</td>\n",
       "      <td>4.062500</td>\n",
       "      <td>4.078125</td>\n",
       "      <td>0.739862</td>\n",
       "      <td>315200</td>\n",
       "    </tr>\n",
       "  </tbody>\n",
       "</table>\n",
       "</div>"
      ],
      "text/plain": [
       "        Date  Open      High       Low     Close  Adj Close  Volume\n",
       "0 1962-01-02   0.0  4.250000  4.125000  4.156250   0.754035  212800\n",
       "1 1962-01-03   0.0  4.187500  4.085938  4.187500   0.759705  422400\n",
       "2 1962-01-04   0.0  4.257813  4.187500  4.187500   0.759705  212800\n",
       "3 1962-01-05   0.0  4.171875  4.062500  4.078125   0.739862  315200"
      ]
     },
     "execution_count": 8,
     "metadata": {},
     "output_type": "execute_result"
    }
   ],
   "source": [
    "yf.download('MMM', start='1962-01-02', end='1962-01-08').reset_index()"
   ]
  },
  {
   "cell_type": "markdown",
   "metadata": {},
   "source": [
    "## 3. Download TSX60 -  a stock market index of 60 large companies listed on the Toronto Stock Exchange\n",
    "Summary: With Dow Jones Index, we do not have any problem when downloading data. But with TSX60, we will have error when using tickers scraped from Wikipedia to download data from Yahoo Finance API because:\n",
    "1. There are some tickers that have '.' instead of '-', for example BAM.A should be BAM-A\n",
    "2. TSX60 tickers have '.TO' at the end\n",
    "\n",
    "I am going to fix these issues"
   ]
  },
  {
   "cell_type": "markdown",
   "metadata": {},
   "source": [
    "### Scrape ticker lists from Wikipedia"
   ]
  },
  {
   "cell_type": "code",
   "execution_count": 9,
   "metadata": {},
   "outputs": [],
   "source": [
    "tickerTSX = pd.read_html(wiki+'S%26P/TSX_60')[0].Symbol.to_list()"
   ]
  },
  {
   "cell_type": "code",
   "execution_count": 10,
   "metadata": {},
   "outputs": [
    {
     "data": {
      "text/plain": [
       "['AEM', 'AQN', 'ATD', 'BCE', 'BMO', 'BNS', 'ABX', 'BHC', 'BAM.A', 'BIP.UN']"
      ]
     },
     "execution_count": 10,
     "metadata": {},
     "output_type": "execute_result"
    }
   ],
   "source": [
    "tickerTSX[:10]"
   ]
  },
  {
   "cell_type": "markdown",
   "metadata": {},
   "source": [
    "### Cleaning data for ticker lists to meet Yahoo! Finance's API standard"
   ]
  },
  {
   "cell_type": "markdown",
   "metadata": {},
   "source": [
    "After downloading and manually checking, I realize that the ticker number 39 is incorrect"
   ]
  },
  {
   "cell_type": "code",
   "execution_count": 11,
   "metadata": {},
   "outputs": [
    {
     "name": "stdout",
     "output_type": "stream",
     "text": [
      "nan 39 <class 'float'>\n"
     ]
    }
   ],
   "source": [
    "#Check the tickers are incorrect\n",
    "for i in range(len(tickerTSX)):\n",
    "    if type(tickerTSX[i]) != str:\n",
    "        print(tickerTSX[i], i, type(tickerTSX[i]))"
   ]
  },
  {
   "cell_type": "code",
   "execution_count": 12,
   "metadata": {},
   "outputs": [
    {
     "data": {
      "text/plain": [
       "'NA'"
      ]
     },
     "execution_count": 12,
     "metadata": {},
     "output_type": "execute_result"
    }
   ],
   "source": [
    "#Correct the incorrect ticker\n",
    "tickerTSX[39] = 'NA'\n",
    "tickerTSX[39]"
   ]
  },
  {
   "cell_type": "markdown",
   "metadata": {},
   "source": [
    "There are some tickers that have '.' instead of '-', and need to have '.TO' at the end."
   ]
  },
  {
   "cell_type": "code",
   "execution_count": 13,
   "metadata": {},
   "outputs": [
    {
     "name": "stdout",
     "output_type": "stream",
     "text": [
      "BAM.A\n",
      "BIP.UN\n",
      "CCL.B\n",
      "GIB.A\n",
      "CAR.UN\n",
      "CTC.A\n",
      "RCI.B\n",
      "SJR.B\n",
      "TECK.B\n"
     ]
    }
   ],
   "source": [
    "for ticker in tickerTSX:\n",
    "    if '.' in str(ticker):\n",
    "        print(ticker)"
   ]
  },
  {
   "cell_type": "code",
   "execution_count": 14,
   "metadata": {},
   "outputs": [
    {
     "name": "stdout",
     "output_type": "stream",
     "text": [
      "[*********************100%***********************]  1 of 1 completed\n",
      "\n",
      "1 Failed download:\n",
      "- CTC.A: No data found, symbol may be delisted\n"
     ]
    },
    {
     "data": {
      "text/plain": [
       "Series([], Name: Close, dtype: float64)"
      ]
     },
     "execution_count": 14,
     "metadata": {},
     "output_type": "execute_result"
    }
   ],
   "source": [
    "# I tried to download using this ticker but it failed\n",
    "yf.download('CTC.A')['Close']"
   ]
  },
  {
   "cell_type": "code",
   "execution_count": 15,
   "metadata": {},
   "outputs": [
    {
     "name": "stdout",
     "output_type": "stream",
     "text": [
      "[*********************100%***********************]  1 of 1 completed\n"
     ]
    },
    {
     "data": {
      "text/plain": [
       "Date\n",
       "1986-01-02     11.750000\n",
       "1986-01-03     11.630000\n",
       "1986-01-06     11.630000\n",
       "1986-01-07     11.750000\n",
       "1986-01-08     11.630000\n",
       "                 ...    \n",
       "2022-09-12    163.410004\n",
       "2022-09-13    162.130005\n",
       "2022-09-14    157.570007\n",
       "2022-09-15    156.580002\n",
       "2022-09-16    157.759995\n",
       "Name: Close, Length: 9228, dtype: float64"
      ]
     },
     "execution_count": 15,
     "metadata": {},
     "output_type": "execute_result"
    }
   ],
   "source": [
    "#The correct ticker has '-' and '.TO'\n",
    "yf.download('CTC-A.TO')['Close']"
   ]
  },
  {
   "cell_type": "code",
   "execution_count": 16,
   "metadata": {},
   "outputs": [],
   "source": [
    "#I am going to replace \".\" to \"-\" and add \".TO\" at the end of ticker\n",
    "newtickerTSX = []\n",
    "for ticker in tickerTSX:\n",
    "    if '.' in ticker:\n",
    "        dot_index = ticker.rfind('.')\n",
    "        newticker = ticker[:dot_index] + '-' + ticker[dot_index +1:] + '.TO'\n",
    "        newtickerTSX.append(newticker)\n",
    "    else:\n",
    "        newtickerTSX.append(str(ticker) + '.TO')  "
   ]
  },
  {
   "cell_type": "markdown",
   "metadata": {},
   "source": [
    "### Download historical data from from Yahoo! Finance's API"
   ]
  },
  {
   "cell_type": "code",
   "execution_count": 17,
   "metadata": {},
   "outputs": [
    {
     "name": "stdout",
     "output_type": "stream",
     "text": [
      "[*********************100%***********************]  1 of 1 completed\n",
      "[*********************100%***********************]  1 of 1 completed\n",
      "[*********************100%***********************]  1 of 1 completed\n",
      "[*********************100%***********************]  1 of 1 completed\n",
      "[*********************100%***********************]  1 of 1 completed\n",
      "[*********************100%***********************]  1 of 1 completed\n",
      "[*********************100%***********************]  1 of 1 completed\n",
      "[*********************100%***********************]  1 of 1 completed\n",
      "[*********************100%***********************]  1 of 1 completed\n",
      "[*********************100%***********************]  1 of 1 completed\n",
      "[*********************100%***********************]  1 of 1 completed\n",
      "[*********************100%***********************]  1 of 1 completed\n",
      "[*********************100%***********************]  1 of 1 completed\n",
      "[*********************100%***********************]  1 of 1 completed\n",
      "[*********************100%***********************]  1 of 1 completed\n",
      "[*********************100%***********************]  1 of 1 completed\n",
      "[*********************100%***********************]  1 of 1 completed\n",
      "[*********************100%***********************]  1 of 1 completed\n",
      "[*********************100%***********************]  1 of 1 completed\n",
      "[*********************100%***********************]  1 of 1 completed\n",
      "[*********************100%***********************]  1 of 1 completed\n",
      "[*********************100%***********************]  1 of 1 completed\n",
      "[*********************100%***********************]  1 of 1 completed\n",
      "[*********************100%***********************]  1 of 1 completed\n",
      "[*********************100%***********************]  1 of 1 completed\n",
      "[*********************100%***********************]  1 of 1 completed\n",
      "[*********************100%***********************]  1 of 1 completed\n",
      "[*********************100%***********************]  1 of 1 completed\n",
      "[*********************100%***********************]  1 of 1 completed\n",
      "[*********************100%***********************]  1 of 1 completed\n",
      "[*********************100%***********************]  1 of 1 completed\n",
      "[*********************100%***********************]  1 of 1 completed\n",
      "[*********************100%***********************]  1 of 1 completed\n",
      "[*********************100%***********************]  1 of 1 completed\n",
      "[*********************100%***********************]  1 of 1 completed\n",
      "[*********************100%***********************]  1 of 1 completed\n",
      "[*********************100%***********************]  1 of 1 completed\n",
      "[*********************100%***********************]  1 of 1 completed\n",
      "[*********************100%***********************]  1 of 1 completed\n",
      "[*********************100%***********************]  1 of 1 completed\n",
      "[*********************100%***********************]  1 of 1 completed\n",
      "[*********************100%***********************]  1 of 1 completed\n",
      "[*********************100%***********************]  1 of 1 completed\n",
      "[*********************100%***********************]  1 of 1 completed\n",
      "[*********************100%***********************]  1 of 1 completed\n",
      "[*********************100%***********************]  1 of 1 completed\n",
      "[*********************100%***********************]  1 of 1 completed\n",
      "[*********************100%***********************]  1 of 1 completed\n",
      "[*********************100%***********************]  1 of 1 completed\n",
      "[*********************100%***********************]  1 of 1 completed\n",
      "[*********************100%***********************]  1 of 1 completed\n",
      "[*********************100%***********************]  1 of 1 completed\n",
      "[*********************100%***********************]  1 of 1 completed\n",
      "[*********************100%***********************]  1 of 1 completed\n",
      "[*********************100%***********************]  1 of 1 completed\n",
      "[*********************100%***********************]  1 of 1 completed\n",
      "[*********************100%***********************]  1 of 1 completed\n",
      "[*********************100%***********************]  1 of 1 completed\n",
      "[*********************100%***********************]  1 of 1 completed\n",
      "[*********************100%***********************]  1 of 1 completed\n"
     ]
    }
   ],
   "source": [
    "# Download historical price data\n",
    "TSX60 = getData(newtickerTSX)"
   ]
  },
  {
   "cell_type": "code",
   "execution_count": 18,
   "metadata": {},
   "outputs": [
    {
     "data": {
      "text/html": [
       "<div>\n",
       "<style scoped>\n",
       "    .dataframe tbody tr th:only-of-type {\n",
       "        vertical-align: middle;\n",
       "    }\n",
       "\n",
       "    .dataframe tbody tr th {\n",
       "        vertical-align: top;\n",
       "    }\n",
       "\n",
       "    .dataframe thead th {\n",
       "        text-align: right;\n",
       "    }\n",
       "</style>\n",
       "<table border=\"1\" class=\"dataframe\">\n",
       "  <thead>\n",
       "    <tr style=\"text-align: right;\">\n",
       "      <th></th>\n",
       "      <th>Date</th>\n",
       "      <th>Open</th>\n",
       "      <th>High</th>\n",
       "      <th>Low</th>\n",
       "      <th>Close</th>\n",
       "      <th>Adj Close</th>\n",
       "      <th>Volume</th>\n",
       "      <th>Symbol</th>\n",
       "    </tr>\n",
       "  </thead>\n",
       "  <tbody>\n",
       "    <tr>\n",
       "      <th>0</th>\n",
       "      <td>1995-01-12</td>\n",
       "      <td>14.88</td>\n",
       "      <td>15.00</td>\n",
       "      <td>14.50</td>\n",
       "      <td>14.50</td>\n",
       "      <td>11.853486</td>\n",
       "      <td>147100</td>\n",
       "      <td>AEM.TO</td>\n",
       "    </tr>\n",
       "    <tr>\n",
       "      <th>1</th>\n",
       "      <td>1995-01-13</td>\n",
       "      <td>14.38</td>\n",
       "      <td>14.50</td>\n",
       "      <td>14.13</td>\n",
       "      <td>14.25</td>\n",
       "      <td>11.649120</td>\n",
       "      <td>26500</td>\n",
       "      <td>AEM.TO</td>\n",
       "    </tr>\n",
       "    <tr>\n",
       "      <th>2</th>\n",
       "      <td>1995-01-16</td>\n",
       "      <td>14.25</td>\n",
       "      <td>14.25</td>\n",
       "      <td>13.88</td>\n",
       "      <td>13.88</td>\n",
       "      <td>11.346651</td>\n",
       "      <td>3800</td>\n",
       "      <td>AEM.TO</td>\n",
       "    </tr>\n",
       "    <tr>\n",
       "      <th>3</th>\n",
       "      <td>1995-01-17</td>\n",
       "      <td>14.25</td>\n",
       "      <td>14.25</td>\n",
       "      <td>13.88</td>\n",
       "      <td>13.88</td>\n",
       "      <td>11.346651</td>\n",
       "      <td>18500</td>\n",
       "      <td>AEM.TO</td>\n",
       "    </tr>\n",
       "    <tr>\n",
       "      <th>4</th>\n",
       "      <td>1995-01-18</td>\n",
       "      <td>14.13</td>\n",
       "      <td>14.50</td>\n",
       "      <td>14.13</td>\n",
       "      <td>14.25</td>\n",
       "      <td>11.649120</td>\n",
       "      <td>18500</td>\n",
       "      <td>AEM.TO</td>\n",
       "    </tr>\n",
       "  </tbody>\n",
       "</table>\n",
       "</div>"
      ],
      "text/plain": [
       "        Date   Open   High    Low  Close  Adj Close  Volume  Symbol\n",
       "0 1995-01-12  14.88  15.00  14.50  14.50  11.853486  147100  AEM.TO\n",
       "1 1995-01-13  14.38  14.50  14.13  14.25  11.649120   26500  AEM.TO\n",
       "2 1995-01-16  14.25  14.25  13.88  13.88  11.346651    3800  AEM.TO\n",
       "3 1995-01-17  14.25  14.25  13.88  13.88  11.346651   18500  AEM.TO\n",
       "4 1995-01-18  14.13  14.50  14.13  14.25  11.649120   18500  AEM.TO"
      ]
     },
     "execution_count": 18,
     "metadata": {},
     "output_type": "execute_result"
    }
   ],
   "source": [
    "new_TSX60 = merge_data(TSX60, newtickerTSX)\n",
    "new_TSX60.head()"
   ]
  },
  {
   "cell_type": "code",
   "execution_count": 19,
   "metadata": {},
   "outputs": [
    {
     "data": {
      "text/html": [
       "<div>\n",
       "<style scoped>\n",
       "    .dataframe tbody tr th:only-of-type {\n",
       "        vertical-align: middle;\n",
       "    }\n",
       "\n",
       "    .dataframe tbody tr th {\n",
       "        vertical-align: top;\n",
       "    }\n",
       "\n",
       "    .dataframe thead th {\n",
       "        text-align: right;\n",
       "    }\n",
       "</style>\n",
       "<table border=\"1\" class=\"dataframe\">\n",
       "  <thead>\n",
       "    <tr style=\"text-align: right;\">\n",
       "      <th></th>\n",
       "      <th>Date</th>\n",
       "      <th>Open</th>\n",
       "      <th>High</th>\n",
       "      <th>Low</th>\n",
       "      <th>Close</th>\n",
       "      <th>Adj Close</th>\n",
       "      <th>Volume</th>\n",
       "      <th>Symbol</th>\n",
       "    </tr>\n",
       "  </thead>\n",
       "  <tbody>\n",
       "    <tr>\n",
       "      <th>342551</th>\n",
       "      <td>2022-09-12</td>\n",
       "      <td>43.970001</td>\n",
       "      <td>44.220001</td>\n",
       "      <td>43.430000</td>\n",
       "      <td>43.820000</td>\n",
       "      <td>43.820000</td>\n",
       "      <td>1016700</td>\n",
       "      <td>WPM.TO</td>\n",
       "    </tr>\n",
       "    <tr>\n",
       "      <th>342552</th>\n",
       "      <td>2022-09-13</td>\n",
       "      <td>42.840000</td>\n",
       "      <td>43.820000</td>\n",
       "      <td>42.560001</td>\n",
       "      <td>42.849998</td>\n",
       "      <td>42.849998</td>\n",
       "      <td>954900</td>\n",
       "      <td>WPM.TO</td>\n",
       "    </tr>\n",
       "    <tr>\n",
       "      <th>342553</th>\n",
       "      <td>2022-09-14</td>\n",
       "      <td>43.150002</td>\n",
       "      <td>43.689999</td>\n",
       "      <td>42.869999</td>\n",
       "      <td>43.029999</td>\n",
       "      <td>43.029999</td>\n",
       "      <td>732500</td>\n",
       "      <td>WPM.TO</td>\n",
       "    </tr>\n",
       "    <tr>\n",
       "      <th>342554</th>\n",
       "      <td>2022-09-15</td>\n",
       "      <td>42.669998</td>\n",
       "      <td>43.060001</td>\n",
       "      <td>41.290001</td>\n",
       "      <td>41.900002</td>\n",
       "      <td>41.900002</td>\n",
       "      <td>1029800</td>\n",
       "      <td>WPM.TO</td>\n",
       "    </tr>\n",
       "    <tr>\n",
       "      <th>342555</th>\n",
       "      <td>2022-09-16</td>\n",
       "      <td>41.419998</td>\n",
       "      <td>43.160000</td>\n",
       "      <td>41.340000</td>\n",
       "      <td>42.610001</td>\n",
       "      <td>42.610001</td>\n",
       "      <td>2499900</td>\n",
       "      <td>WPM.TO</td>\n",
       "    </tr>\n",
       "  </tbody>\n",
       "</table>\n",
       "</div>"
      ],
      "text/plain": [
       "             Date       Open       High        Low      Close  Adj Close  \\\n",
       "342551 2022-09-12  43.970001  44.220001  43.430000  43.820000  43.820000   \n",
       "342552 2022-09-13  42.840000  43.820000  42.560001  42.849998  42.849998   \n",
       "342553 2022-09-14  43.150002  43.689999  42.869999  43.029999  43.029999   \n",
       "342554 2022-09-15  42.669998  43.060001  41.290001  41.900002  41.900002   \n",
       "342555 2022-09-16  41.419998  43.160000  41.340000  42.610001  42.610001   \n",
       "\n",
       "         Volume  Symbol  \n",
       "342551  1016700  WPM.TO  \n",
       "342552   954900  WPM.TO  \n",
       "342553   732500  WPM.TO  \n",
       "342554  1029800  WPM.TO  \n",
       "342555  2499900  WPM.TO  "
      ]
     },
     "execution_count": 19,
     "metadata": {},
     "output_type": "execute_result"
    }
   ],
   "source": [
    "new_TSX60.tail()"
   ]
  },
  {
   "cell_type": "markdown",
   "metadata": {},
   "source": []
  },
  {
   "cell_type": "markdown",
   "metadata": {},
   "source": [
    "## 4. Download fundamental data from Yahoo! Finance's API"
   ]
  },
  {
   "cell_type": "code",
   "execution_count": 42,
   "metadata": {},
   "outputs": [],
   "source": [
    "def download_fundamental(tickers):\n",
    "    df = pd.DataFrame()\n",
    "    for ticker in tickers:\n",
    "        var = yf.Ticker(ticker).info\n",
    "        frame = pd.DataFrame([var])\n",
    "        df = pd.concat([df, frame], ignore_index=True)\n",
    "    return df"
   ]
  },
  {
   "cell_type": "markdown",
   "metadata": {},
   "source": [
    "#### Download TSX60 fundamental data"
   ]
  },
  {
   "cell_type": "code",
   "execution_count": 39,
   "metadata": {},
   "outputs": [],
   "source": [
    "TSXFundamental = download_fundamental(newtickerTSX)"
   ]
  },
  {
   "cell_type": "code",
   "execution_count": 43,
   "metadata": {},
   "outputs": [
    {
     "data": {
      "text/plain": [
       "(60, 159)"
      ]
     },
     "execution_count": 43,
     "metadata": {},
     "output_type": "execute_result"
    }
   ],
   "source": [
    "# Looking at Fundamental dataset\n",
    "TSXFundamental.shape"
   ]
  },
  {
   "cell_type": "markdown",
   "metadata": {},
   "source": [
    "We have 60 rows and 159 columns"
   ]
  },
  {
   "cell_type": "code",
   "execution_count": 44,
   "metadata": {},
   "outputs": [
    {
     "data": {
      "text/html": [
       "<div>\n",
       "<style scoped>\n",
       "    .dataframe tbody tr th:only-of-type {\n",
       "        vertical-align: middle;\n",
       "    }\n",
       "\n",
       "    .dataframe tbody tr th {\n",
       "        vertical-align: top;\n",
       "    }\n",
       "\n",
       "    .dataframe thead th {\n",
       "        text-align: right;\n",
       "    }\n",
       "</style>\n",
       "<table border=\"1\" class=\"dataframe\">\n",
       "  <thead>\n",
       "    <tr style=\"text-align: right;\">\n",
       "      <th></th>\n",
       "      <th>zip</th>\n",
       "      <th>sector</th>\n",
       "      <th>fullTimeEmployees</th>\n",
       "      <th>longBusinessSummary</th>\n",
       "      <th>city</th>\n",
       "      <th>state</th>\n",
       "      <th>country</th>\n",
       "      <th>companyOfficers</th>\n",
       "      <th>website</th>\n",
       "      <th>maxAge</th>\n",
       "      <th>...</th>\n",
       "      <th>dividendYield</th>\n",
       "      <th>bidSize</th>\n",
       "      <th>dayHigh</th>\n",
       "      <th>coinMarketCapLink</th>\n",
       "      <th>regularMarketPrice</th>\n",
       "      <th>preMarketPrice</th>\n",
       "      <th>logo_url</th>\n",
       "      <th>lastDividendDate</th>\n",
       "      <th>impliedSharesOutstanding</th>\n",
       "      <th>phone</th>\n",
       "    </tr>\n",
       "  </thead>\n",
       "  <tbody>\n",
       "    <tr>\n",
       "      <th>0</th>\n",
       "      <td>M5C 2Y7</td>\n",
       "      <td>Basic Materials</td>\n",
       "      <td>6810.0</td>\n",
       "      <td>Agnico Eagle Mines Limited engages in the expl...</td>\n",
       "      <td>Toronto</td>\n",
       "      <td>ON</td>\n",
       "      <td>Canada</td>\n",
       "      <td>[]</td>\n",
       "      <td>https://www.agnicoeagle.com</td>\n",
       "      <td>1</td>\n",
       "      <td>...</td>\n",
       "      <td>0.0371</td>\n",
       "      <td>None</td>\n",
       "      <td>55.89</td>\n",
       "      <td>None</td>\n",
       "      <td>55.33</td>\n",
       "      <td>None</td>\n",
       "      <td>https://logo.clearbit.com/agnicoeagle.com</td>\n",
       "      <td>NaN</td>\n",
       "      <td>NaN</td>\n",
       "      <td>NaN</td>\n",
       "    </tr>\n",
       "    <tr>\n",
       "      <th>1</th>\n",
       "      <td>L6J 2X1</td>\n",
       "      <td>Utilities</td>\n",
       "      <td>3445.0</td>\n",
       "      <td>Algonquin Power &amp; Utilities Corp., through its...</td>\n",
       "      <td>Oakville</td>\n",
       "      <td>ON</td>\n",
       "      <td>Canada</td>\n",
       "      <td>[]</td>\n",
       "      <td>https://algonquinpower.com</td>\n",
       "      <td>1</td>\n",
       "      <td>...</td>\n",
       "      <td>0.0527</td>\n",
       "      <td>0</td>\n",
       "      <td>17.78</td>\n",
       "      <td>None</td>\n",
       "      <td>17.53</td>\n",
       "      <td>None</td>\n",
       "      <td>https://logo.clearbit.com/algonquinpower.com</td>\n",
       "      <td>1.656461e+09</td>\n",
       "      <td>0.0</td>\n",
       "      <td>NaN</td>\n",
       "    </tr>\n",
       "    <tr>\n",
       "      <th>2</th>\n",
       "      <td>H7L 0E3</td>\n",
       "      <td>Consumer Cyclical</td>\n",
       "      <td>122000.0</td>\n",
       "      <td>Alimentation Couche-Tard Inc. operates and lic...</td>\n",
       "      <td>Laval</td>\n",
       "      <td>QC</td>\n",
       "      <td>Canada</td>\n",
       "      <td>[]</td>\n",
       "      <td>https://corpo.couche-tard.com</td>\n",
       "      <td>1</td>\n",
       "      <td>...</td>\n",
       "      <td>0.0074</td>\n",
       "      <td>None</td>\n",
       "      <td>59.11</td>\n",
       "      <td>None</td>\n",
       "      <td>59.08</td>\n",
       "      <td>None</td>\n",
       "      <td>https://logo.clearbit.com/corpo.couche-tard.com</td>\n",
       "      <td>1.662509e+09</td>\n",
       "      <td>0.0</td>\n",
       "      <td>NaN</td>\n",
       "    </tr>\n",
       "    <tr>\n",
       "      <th>3</th>\n",
       "      <td>H3E 3B3</td>\n",
       "      <td>Communication Services</td>\n",
       "      <td>49781.0</td>\n",
       "      <td>BCE Inc., a telecommunications and media compa...</td>\n",
       "      <td>Verdun</td>\n",
       "      <td>QC</td>\n",
       "      <td>Canada</td>\n",
       "      <td>[]</td>\n",
       "      <td>https://www.bce.ca</td>\n",
       "      <td>1</td>\n",
       "      <td>...</td>\n",
       "      <td>0.0591</td>\n",
       "      <td>0</td>\n",
       "      <td>62.38</td>\n",
       "      <td>None</td>\n",
       "      <td>62.29</td>\n",
       "      <td>None</td>\n",
       "      <td>https://logo.clearbit.com/bce.ca</td>\n",
       "      <td>1.663114e+09</td>\n",
       "      <td>0.0</td>\n",
       "      <td>NaN</td>\n",
       "    </tr>\n",
       "    <tr>\n",
       "      <th>4</th>\n",
       "      <td>H2Y 1L6</td>\n",
       "      <td>Financial Services</td>\n",
       "      <td>43863.0</td>\n",
       "      <td>Bank of Montreal provides diversified financia...</td>\n",
       "      <td>Montreal</td>\n",
       "      <td>QC</td>\n",
       "      <td>Canada</td>\n",
       "      <td>[]</td>\n",
       "      <td>https://www.bmo.com</td>\n",
       "      <td>1</td>\n",
       "      <td>...</td>\n",
       "      <td>0.0439</td>\n",
       "      <td>0</td>\n",
       "      <td>127.20</td>\n",
       "      <td>None</td>\n",
       "      <td>126.76</td>\n",
       "      <td>None</td>\n",
       "      <td>https://logo.clearbit.com/bmo.com</td>\n",
       "      <td>1.659053e+09</td>\n",
       "      <td>0.0</td>\n",
       "      <td>NaN</td>\n",
       "    </tr>\n",
       "  </tbody>\n",
       "</table>\n",
       "<p>5 rows × 159 columns</p>\n",
       "</div>"
      ],
      "text/plain": [
       "       zip                  sector  fullTimeEmployees  \\\n",
       "0  M5C 2Y7         Basic Materials             6810.0   \n",
       "1  L6J 2X1               Utilities             3445.0   \n",
       "2  H7L 0E3       Consumer Cyclical           122000.0   \n",
       "3  H3E 3B3  Communication Services            49781.0   \n",
       "4  H2Y 1L6      Financial Services            43863.0   \n",
       "\n",
       "                                 longBusinessSummary      city state country  \\\n",
       "0  Agnico Eagle Mines Limited engages in the expl...   Toronto    ON  Canada   \n",
       "1  Algonquin Power & Utilities Corp., through its...  Oakville    ON  Canada   \n",
       "2  Alimentation Couche-Tard Inc. operates and lic...     Laval    QC  Canada   \n",
       "3  BCE Inc., a telecommunications and media compa...    Verdun    QC  Canada   \n",
       "4  Bank of Montreal provides diversified financia...  Montreal    QC  Canada   \n",
       "\n",
       "  companyOfficers                        website  maxAge  ... dividendYield  \\\n",
       "0              []    https://www.agnicoeagle.com       1  ...        0.0371   \n",
       "1              []     https://algonquinpower.com       1  ...        0.0527   \n",
       "2              []  https://corpo.couche-tard.com       1  ...        0.0074   \n",
       "3              []             https://www.bce.ca       1  ...        0.0591   \n",
       "4              []            https://www.bmo.com       1  ...        0.0439   \n",
       "\n",
       "  bidSize dayHigh coinMarketCapLink  regularMarketPrice  preMarketPrice  \\\n",
       "0    None   55.89              None               55.33            None   \n",
       "1       0   17.78              None               17.53            None   \n",
       "2    None   59.11              None               59.08            None   \n",
       "3       0   62.38              None               62.29            None   \n",
       "4       0  127.20              None              126.76            None   \n",
       "\n",
       "                                          logo_url  lastDividendDate  \\\n",
       "0        https://logo.clearbit.com/agnicoeagle.com               NaN   \n",
       "1     https://logo.clearbit.com/algonquinpower.com      1.656461e+09   \n",
       "2  https://logo.clearbit.com/corpo.couche-tard.com      1.662509e+09   \n",
       "3                 https://logo.clearbit.com/bce.ca      1.663114e+09   \n",
       "4                https://logo.clearbit.com/bmo.com      1.659053e+09   \n",
       "\n",
       "   impliedSharesOutstanding  phone  \n",
       "0                       NaN    NaN  \n",
       "1                       0.0    NaN  \n",
       "2                       0.0    NaN  \n",
       "3                       0.0    NaN  \n",
       "4                       0.0    NaN  \n",
       "\n",
       "[5 rows x 159 columns]"
      ]
     },
     "execution_count": 44,
     "metadata": {},
     "output_type": "execute_result"
    }
   ],
   "source": [
    "TSXFundamental.head()"
   ]
  },
  {
   "cell_type": "code",
   "execution_count": 45,
   "metadata": {},
   "outputs": [
    {
     "data": {
      "text/html": [
       "<div>\n",
       "<style scoped>\n",
       "    .dataframe tbody tr th:only-of-type {\n",
       "        vertical-align: middle;\n",
       "    }\n",
       "\n",
       "    .dataframe tbody tr th {\n",
       "        vertical-align: top;\n",
       "    }\n",
       "\n",
       "    .dataframe thead th {\n",
       "        text-align: right;\n",
       "    }\n",
       "</style>\n",
       "<table border=\"1\" class=\"dataframe\">\n",
       "  <thead>\n",
       "    <tr style=\"text-align: right;\">\n",
       "      <th></th>\n",
       "      <th>zip</th>\n",
       "      <th>sector</th>\n",
       "      <th>fullTimeEmployees</th>\n",
       "      <th>longBusinessSummary</th>\n",
       "      <th>city</th>\n",
       "      <th>state</th>\n",
       "      <th>country</th>\n",
       "      <th>companyOfficers</th>\n",
       "      <th>website</th>\n",
       "      <th>maxAge</th>\n",
       "      <th>...</th>\n",
       "      <th>dividendYield</th>\n",
       "      <th>bidSize</th>\n",
       "      <th>dayHigh</th>\n",
       "      <th>coinMarketCapLink</th>\n",
       "      <th>regularMarketPrice</th>\n",
       "      <th>preMarketPrice</th>\n",
       "      <th>logo_url</th>\n",
       "      <th>lastDividendDate</th>\n",
       "      <th>impliedSharesOutstanding</th>\n",
       "      <th>phone</th>\n",
       "    </tr>\n",
       "  </thead>\n",
       "  <tbody>\n",
       "    <tr>\n",
       "      <th>55</th>\n",
       "      <td>V6B 0M3</td>\n",
       "      <td>Communication Services</td>\n",
       "      <td>90800.0</td>\n",
       "      <td>TELUS Corporation, together with its subsidiar...</td>\n",
       "      <td>Vancouver</td>\n",
       "      <td>BC</td>\n",
       "      <td>Canada</td>\n",
       "      <td>[]</td>\n",
       "      <td>https://www.telus.com</td>\n",
       "      <td>1</td>\n",
       "      <td>...</td>\n",
       "      <td>0.0459</td>\n",
       "      <td>0</td>\n",
       "      <td>28.83</td>\n",
       "      <td>None</td>\n",
       "      <td>28.77</td>\n",
       "      <td>None</td>\n",
       "      <td>https://logo.clearbit.com/telus.com</td>\n",
       "      <td>NaN</td>\n",
       "      <td>NaN</td>\n",
       "      <td>NaN</td>\n",
       "    </tr>\n",
       "    <tr>\n",
       "      <th>56</th>\n",
       "      <td>M5H 2R2</td>\n",
       "      <td>Industrials</td>\n",
       "      <td>24400.0</td>\n",
       "      <td>Thomson Reuters Corporation provides business ...</td>\n",
       "      <td>Toronto</td>\n",
       "      <td>ON</td>\n",
       "      <td>Canada</td>\n",
       "      <td>[]</td>\n",
       "      <td>https://www.tr.com</td>\n",
       "      <td>1</td>\n",
       "      <td>...</td>\n",
       "      <td>0.0160</td>\n",
       "      <td>0</td>\n",
       "      <td>147.30</td>\n",
       "      <td>None</td>\n",
       "      <td>146.88</td>\n",
       "      <td>None</td>\n",
       "      <td>https://logo.clearbit.com/tr.com</td>\n",
       "      <td>NaN</td>\n",
       "      <td>NaN</td>\n",
       "      <td>NaN</td>\n",
       "    </tr>\n",
       "    <tr>\n",
       "      <th>57</th>\n",
       "      <td>M5K 1A2</td>\n",
       "      <td>Financial Services</td>\n",
       "      <td>91993.0</td>\n",
       "      <td>The Toronto-Dominion Bank, together with its s...</td>\n",
       "      <td>Toronto</td>\n",
       "      <td>ON</td>\n",
       "      <td>Canada</td>\n",
       "      <td>[]</td>\n",
       "      <td>https://www.td.com</td>\n",
       "      <td>1</td>\n",
       "      <td>...</td>\n",
       "      <td>0.0428</td>\n",
       "      <td>0</td>\n",
       "      <td>87.99</td>\n",
       "      <td>None</td>\n",
       "      <td>87.93</td>\n",
       "      <td>None</td>\n",
       "      <td>https://logo.clearbit.com/td.com</td>\n",
       "      <td>NaN</td>\n",
       "      <td>NaN</td>\n",
       "      <td>NaN</td>\n",
       "    </tr>\n",
       "    <tr>\n",
       "      <th>58</th>\n",
       "      <td>L4H 4G3</td>\n",
       "      <td>Industrials</td>\n",
       "      <td>19998.0</td>\n",
       "      <td>Waste Connections, Inc. provides non-hazardous...</td>\n",
       "      <td>Woodbridge</td>\n",
       "      <td>ON</td>\n",
       "      <td>Canada</td>\n",
       "      <td>[]</td>\n",
       "      <td>https://www.wasteconnections.com</td>\n",
       "      <td>1</td>\n",
       "      <td>...</td>\n",
       "      <td>0.0068</td>\n",
       "      <td>0</td>\n",
       "      <td>193.12</td>\n",
       "      <td>None</td>\n",
       "      <td>192.20</td>\n",
       "      <td>None</td>\n",
       "      <td>https://logo.clearbit.com/wasteconnections.com</td>\n",
       "      <td>NaN</td>\n",
       "      <td>NaN</td>\n",
       "      <td>NaN</td>\n",
       "    </tr>\n",
       "    <tr>\n",
       "      <th>59</th>\n",
       "      <td>V6E 0C3</td>\n",
       "      <td>Basic Materials</td>\n",
       "      <td>44.0</td>\n",
       "      <td>Wheaton Precious Metals Corp., a streaming com...</td>\n",
       "      <td>Vancouver</td>\n",
       "      <td>BC</td>\n",
       "      <td>Canada</td>\n",
       "      <td>[]</td>\n",
       "      <td>https://www.wheatonpm.com</td>\n",
       "      <td>1</td>\n",
       "      <td>...</td>\n",
       "      <td>0.0172</td>\n",
       "      <td>None</td>\n",
       "      <td>43.16</td>\n",
       "      <td>NaN</td>\n",
       "      <td>42.61</td>\n",
       "      <td>None</td>\n",
       "      <td>https://logo.clearbit.com/wheatonpm.com</td>\n",
       "      <td>NaN</td>\n",
       "      <td>NaN</td>\n",
       "      <td>NaN</td>\n",
       "    </tr>\n",
       "  </tbody>\n",
       "</table>\n",
       "<p>5 rows × 159 columns</p>\n",
       "</div>"
      ],
      "text/plain": [
       "        zip                  sector  fullTimeEmployees  \\\n",
       "55  V6B 0M3  Communication Services            90800.0   \n",
       "56  M5H 2R2             Industrials            24400.0   \n",
       "57  M5K 1A2      Financial Services            91993.0   \n",
       "58  L4H 4G3             Industrials            19998.0   \n",
       "59  V6E 0C3         Basic Materials               44.0   \n",
       "\n",
       "                                  longBusinessSummary        city state  \\\n",
       "55  TELUS Corporation, together with its subsidiar...   Vancouver    BC   \n",
       "56  Thomson Reuters Corporation provides business ...     Toronto    ON   \n",
       "57  The Toronto-Dominion Bank, together with its s...     Toronto    ON   \n",
       "58  Waste Connections, Inc. provides non-hazardous...  Woodbridge    ON   \n",
       "59  Wheaton Precious Metals Corp., a streaming com...   Vancouver    BC   \n",
       "\n",
       "   country companyOfficers                           website  maxAge  ...  \\\n",
       "55  Canada              []             https://www.telus.com       1  ...   \n",
       "56  Canada              []                https://www.tr.com       1  ...   \n",
       "57  Canada              []                https://www.td.com       1  ...   \n",
       "58  Canada              []  https://www.wasteconnections.com       1  ...   \n",
       "59  Canada              []         https://www.wheatonpm.com       1  ...   \n",
       "\n",
       "   dividendYield bidSize dayHigh coinMarketCapLink  regularMarketPrice  \\\n",
       "55        0.0459       0   28.83              None               28.77   \n",
       "56        0.0160       0  147.30              None              146.88   \n",
       "57        0.0428       0   87.99              None               87.93   \n",
       "58        0.0068       0  193.12              None              192.20   \n",
       "59        0.0172    None   43.16               NaN               42.61   \n",
       "\n",
       "    preMarketPrice                                        logo_url  \\\n",
       "55            None             https://logo.clearbit.com/telus.com   \n",
       "56            None                https://logo.clearbit.com/tr.com   \n",
       "57            None                https://logo.clearbit.com/td.com   \n",
       "58            None  https://logo.clearbit.com/wasteconnections.com   \n",
       "59            None         https://logo.clearbit.com/wheatonpm.com   \n",
       "\n",
       "    lastDividendDate  impliedSharesOutstanding  phone  \n",
       "55               NaN                       NaN    NaN  \n",
       "56               NaN                       NaN    NaN  \n",
       "57               NaN                       NaN    NaN  \n",
       "58               NaN                       NaN    NaN  \n",
       "59               NaN                       NaN    NaN  \n",
       "\n",
       "[5 rows x 159 columns]"
      ]
     },
     "execution_count": 45,
     "metadata": {},
     "output_type": "execute_result"
    }
   ],
   "source": [
    "TSXFundamental.tail()"
   ]
  },
  {
   "cell_type": "code",
   "execution_count": 46,
   "metadata": {},
   "outputs": [
    {
     "data": {
      "text/plain": [
       "zip                          0\n",
       "sector                       0\n",
       "fullTimeEmployees           11\n",
       "longBusinessSummary          0\n",
       "city                         0\n",
       "                            ..\n",
       "preMarketPrice              60\n",
       "logo_url                     0\n",
       "lastDividendDate            48\n",
       "impliedSharesOutstanding    47\n",
       "phone                       53\n",
       "Length: 159, dtype: int64"
      ]
     },
     "execution_count": 46,
     "metadata": {},
     "output_type": "execute_result"
    }
   ],
   "source": [
    "TSXFundamental.isnull().sum()"
   ]
  },
  {
   "cell_type": "markdown",
   "metadata": {},
   "source": [
    "We have some columns that do not have values. We will drop all columns that have null values"
   ]
  },
  {
   "cell_type": "code",
   "execution_count": 47,
   "metadata": {},
   "outputs": [],
   "source": [
    "# Select columns that we will use for future data analysis and visualization\n",
    "\n",
    "select_columns = ['symbol', 'shortName','longName', 'sector', 'longBusinessSummary', 'city', 'state', 'country', 'website','industry','ebitdaMargins',\n",
    "       'profitMargins', 'grossMargins', 'operatingCashflow',\n",
    "       'revenueGrowth', 'operatingMargins', 'ebitda', 'targetLowPrice',\n",
    "       'recommendationKey', 'grossProfits', 'freeCashflow',\n",
    "       'targetMedianPrice', 'currentPrice', 'earningsGrowth',\n",
    "       'currentRatio', 'returnOnAssets', 'numberOfAnalystOpinions',\n",
    "       'targetMeanPrice', 'debtToEquity', 'returnOnEquity',\n",
    "       'targetHighPrice', 'totalCash', 'totalDebt', 'totalRevenue',\n",
    "       'totalCashPerShare', 'financialCurrency', 'revenuePerShare',\n",
    "       'market',\n",
    "       ]"
   ]
  },
  {
   "cell_type": "code",
   "execution_count": 48,
   "metadata": {},
   "outputs": [],
   "source": [
    "subTSX_Fundamental = TSXFundamental[select_columns]"
   ]
  },
  {
   "cell_type": "code",
   "execution_count": 52,
   "metadata": {},
   "outputs": [
    {
     "data": {
      "text/html": [
       "<div>\n",
       "<style scoped>\n",
       "    .dataframe tbody tr th:only-of-type {\n",
       "        vertical-align: middle;\n",
       "    }\n",
       "\n",
       "    .dataframe tbody tr th {\n",
       "        vertical-align: top;\n",
       "    }\n",
       "\n",
       "    .dataframe thead th {\n",
       "        text-align: right;\n",
       "    }\n",
       "</style>\n",
       "<table border=\"1\" class=\"dataframe\">\n",
       "  <thead>\n",
       "    <tr style=\"text-align: right;\">\n",
       "      <th></th>\n",
       "      <th>symbol</th>\n",
       "      <th>shortName</th>\n",
       "      <th>longName</th>\n",
       "      <th>sector</th>\n",
       "      <th>longBusinessSummary</th>\n",
       "      <th>city</th>\n",
       "      <th>state</th>\n",
       "      <th>country</th>\n",
       "      <th>website</th>\n",
       "      <th>industry</th>\n",
       "      <th>...</th>\n",
       "      <th>debtToEquity</th>\n",
       "      <th>returnOnEquity</th>\n",
       "      <th>targetHighPrice</th>\n",
       "      <th>totalCash</th>\n",
       "      <th>totalDebt</th>\n",
       "      <th>totalRevenue</th>\n",
       "      <th>totalCashPerShare</th>\n",
       "      <th>financialCurrency</th>\n",
       "      <th>revenuePerShare</th>\n",
       "      <th>market</th>\n",
       "    </tr>\n",
       "  </thead>\n",
       "  <tbody>\n",
       "    <tr>\n",
       "      <th>0</th>\n",
       "      <td>AEM.TO</td>\n",
       "      <td>AGNICO EAGLE MINES LIMITED</td>\n",
       "      <td>Agnico Eagle Mines Limited</td>\n",
       "      <td>Basic Materials</td>\n",
       "      <td>Agnico Eagle Mines Limited engages in the expl...</td>\n",
       "      <td>Toronto</td>\n",
       "      <td>ON</td>\n",
       "      <td>Canada</td>\n",
       "      <td>https://www.agnicoeagle.com</td>\n",
       "      <td>Gold</td>\n",
       "      <td>...</td>\n",
       "      <td>9.684</td>\n",
       "      <td>0.05365</td>\n",
       "      <td>133.86</td>\n",
       "      <td>1006854976</td>\n",
       "      <td>1575686016</td>\n",
       "      <td>4814681088</td>\n",
       "      <td>2.227</td>\n",
       "      <td>USD</td>\n",
       "      <td>14.516</td>\n",
       "      <td>ca_market</td>\n",
       "    </tr>\n",
       "    <tr>\n",
       "      <th>1</th>\n",
       "      <td>AQN.TO</td>\n",
       "      <td>ALGONQUIN POWER AND UTILITIES C</td>\n",
       "      <td>Algonquin Power &amp; Utilities Corp.</td>\n",
       "      <td>Utilities</td>\n",
       "      <td>Algonquin Power &amp; Utilities Corp., through its...</td>\n",
       "      <td>Oakville</td>\n",
       "      <td>ON</td>\n",
       "      <td>Canada</td>\n",
       "      <td>https://algonquinpower.com</td>\n",
       "      <td>Utilities—Renewable</td>\n",
       "      <td>...</td>\n",
       "      <td>102.899</td>\n",
       "      <td>0.01318</td>\n",
       "      <td>23.69</td>\n",
       "      <td>84997000</td>\n",
       "      <td>7560878080</td>\n",
       "      <td>2483369984</td>\n",
       "      <td>0.125</td>\n",
       "      <td>USD</td>\n",
       "      <td>3.784</td>\n",
       "      <td>ca_market</td>\n",
       "    </tr>\n",
       "    <tr>\n",
       "      <th>2</th>\n",
       "      <td>ATD.TO</td>\n",
       "      <td>ALIMENTATION COUCHE-TARD INC</td>\n",
       "      <td>Alimentation Couche-Tard Inc.</td>\n",
       "      <td>Consumer Cyclical</td>\n",
       "      <td>Alimentation Couche-Tard Inc. operates and lic...</td>\n",
       "      <td>Laval</td>\n",
       "      <td>QC</td>\n",
       "      <td>Canada</td>\n",
       "      <td>https://corpo.couche-tard.com</td>\n",
       "      <td>Specialty Retail</td>\n",
       "      <td>...</td>\n",
       "      <td>75.368</td>\n",
       "      <td>0.22438</td>\n",
       "      <td>89.51</td>\n",
       "      <td>2217600000</td>\n",
       "      <td>9359399936</td>\n",
       "      <td>67888701440</td>\n",
       "      <td>2.170</td>\n",
       "      <td>USD</td>\n",
       "      <td>64.647</td>\n",
       "      <td>ca_market</td>\n",
       "    </tr>\n",
       "    <tr>\n",
       "      <th>3</th>\n",
       "      <td>BCE.TO</td>\n",
       "      <td>BCE INC.</td>\n",
       "      <td>BCE Inc.</td>\n",
       "      <td>Communication Services</td>\n",
       "      <td>BCE Inc., a telecommunications and media compa...</td>\n",
       "      <td>Verdun</td>\n",
       "      <td>QC</td>\n",
       "      <td>Canada</td>\n",
       "      <td>https://www.bce.ca</td>\n",
       "      <td>Telecom Services</td>\n",
       "      <td>...</td>\n",
       "      <td>127.604</td>\n",
       "      <td>0.13147</td>\n",
       "      <td>75.00</td>\n",
       "      <td>596000000</td>\n",
       "      <td>30325000192</td>\n",
       "      <td>23755999232</td>\n",
       "      <td>0.654</td>\n",
       "      <td>CAD</td>\n",
       "      <td>26.121</td>\n",
       "      <td>ca_market</td>\n",
       "    </tr>\n",
       "    <tr>\n",
       "      <th>4</th>\n",
       "      <td>BMO.TO</td>\n",
       "      <td>BANK OF MONTREAL</td>\n",
       "      <td>Bank of Montreal</td>\n",
       "      <td>Financial Services</td>\n",
       "      <td>Bank of Montreal provides diversified financia...</td>\n",
       "      <td>Montreal</td>\n",
       "      <td>QC</td>\n",
       "      <td>Canada</td>\n",
       "      <td>https://www.bmo.com</td>\n",
       "      <td>Banks—Diversified</td>\n",
       "      <td>...</td>\n",
       "      <td>NaN</td>\n",
       "      <td>0.17985</td>\n",
       "      <td>161.51</td>\n",
       "      <td>335155003392</td>\n",
       "      <td>176752001024</td>\n",
       "      <td>29721999360</td>\n",
       "      <td>496.996</td>\n",
       "      <td>CAD</td>\n",
       "      <td>45.240</td>\n",
       "      <td>ca_market</td>\n",
       "    </tr>\n",
       "  </tbody>\n",
       "</table>\n",
       "<p>5 rows × 38 columns</p>\n",
       "</div>"
      ],
      "text/plain": [
       "   symbol                        shortName                           longName  \\\n",
       "0  AEM.TO       AGNICO EAGLE MINES LIMITED         Agnico Eagle Mines Limited   \n",
       "1  AQN.TO  ALGONQUIN POWER AND UTILITIES C  Algonquin Power & Utilities Corp.   \n",
       "2  ATD.TO     ALIMENTATION COUCHE-TARD INC      Alimentation Couche-Tard Inc.   \n",
       "3  BCE.TO                         BCE INC.                           BCE Inc.   \n",
       "4  BMO.TO                 BANK OF MONTREAL                   Bank of Montreal   \n",
       "\n",
       "                   sector                                longBusinessSummary  \\\n",
       "0         Basic Materials  Agnico Eagle Mines Limited engages in the expl...   \n",
       "1               Utilities  Algonquin Power & Utilities Corp., through its...   \n",
       "2       Consumer Cyclical  Alimentation Couche-Tard Inc. operates and lic...   \n",
       "3  Communication Services  BCE Inc., a telecommunications and media compa...   \n",
       "4      Financial Services  Bank of Montreal provides diversified financia...   \n",
       "\n",
       "       city state country                        website             industry  \\\n",
       "0   Toronto    ON  Canada    https://www.agnicoeagle.com                 Gold   \n",
       "1  Oakville    ON  Canada     https://algonquinpower.com  Utilities—Renewable   \n",
       "2     Laval    QC  Canada  https://corpo.couche-tard.com     Specialty Retail   \n",
       "3    Verdun    QC  Canada             https://www.bce.ca     Telecom Services   \n",
       "4  Montreal    QC  Canada            https://www.bmo.com    Banks—Diversified   \n",
       "\n",
       "   ...  debtToEquity  returnOnEquity  targetHighPrice     totalCash  \\\n",
       "0  ...         9.684         0.05365           133.86    1006854976   \n",
       "1  ...       102.899         0.01318            23.69      84997000   \n",
       "2  ...        75.368         0.22438            89.51    2217600000   \n",
       "3  ...       127.604         0.13147            75.00     596000000   \n",
       "4  ...           NaN         0.17985           161.51  335155003392   \n",
       "\n",
       "      totalDebt  totalRevenue totalCashPerShare  financialCurrency  \\\n",
       "0    1575686016    4814681088             2.227                USD   \n",
       "1    7560878080    2483369984             0.125                USD   \n",
       "2    9359399936   67888701440             2.170                USD   \n",
       "3   30325000192   23755999232             0.654                CAD   \n",
       "4  176752001024   29721999360           496.996                CAD   \n",
       "\n",
       "  revenuePerShare     market  \n",
       "0          14.516  ca_market  \n",
       "1           3.784  ca_market  \n",
       "2          64.647  ca_market  \n",
       "3          26.121  ca_market  \n",
       "4          45.240  ca_market  \n",
       "\n",
       "[5 rows x 38 columns]"
      ]
     },
     "execution_count": 52,
     "metadata": {},
     "output_type": "execute_result"
    }
   ],
   "source": [
    "subTSX_Fundamental.head()"
   ]
  },
  {
   "cell_type": "code",
   "execution_count": 53,
   "metadata": {},
   "outputs": [
    {
     "data": {
      "text/html": [
       "<div>\n",
       "<style scoped>\n",
       "    .dataframe tbody tr th:only-of-type {\n",
       "        vertical-align: middle;\n",
       "    }\n",
       "\n",
       "    .dataframe tbody tr th {\n",
       "        vertical-align: top;\n",
       "    }\n",
       "\n",
       "    .dataframe thead th {\n",
       "        text-align: right;\n",
       "    }\n",
       "</style>\n",
       "<table border=\"1\" class=\"dataframe\">\n",
       "  <thead>\n",
       "    <tr style=\"text-align: right;\">\n",
       "      <th></th>\n",
       "      <th>symbol</th>\n",
       "      <th>shortName</th>\n",
       "      <th>longName</th>\n",
       "      <th>sector</th>\n",
       "      <th>longBusinessSummary</th>\n",
       "      <th>city</th>\n",
       "      <th>state</th>\n",
       "      <th>country</th>\n",
       "      <th>website</th>\n",
       "      <th>industry</th>\n",
       "      <th>...</th>\n",
       "      <th>debtToEquity</th>\n",
       "      <th>returnOnEquity</th>\n",
       "      <th>targetHighPrice</th>\n",
       "      <th>totalCash</th>\n",
       "      <th>totalDebt</th>\n",
       "      <th>totalRevenue</th>\n",
       "      <th>totalCashPerShare</th>\n",
       "      <th>financialCurrency</th>\n",
       "      <th>revenuePerShare</th>\n",
       "      <th>market</th>\n",
       "    </tr>\n",
       "  </thead>\n",
       "  <tbody>\n",
       "    <tr>\n",
       "      <th>55</th>\n",
       "      <td>T.TO</td>\n",
       "      <td>TELUS CORPORATION</td>\n",
       "      <td>TELUS Corporation</td>\n",
       "      <td>Communication Services</td>\n",
       "      <td>TELUS Corporation, together with its subsidiar...</td>\n",
       "      <td>Vancouver</td>\n",
       "      <td>BC</td>\n",
       "      <td>Canada</td>\n",
       "      <td>https://www.telus.com</td>\n",
       "      <td>Telecom Services</td>\n",
       "      <td>...</td>\n",
       "      <td>131.334</td>\n",
       "      <td>0.11103</td>\n",
       "      <td>36.00</td>\n",
       "      <td>774000000</td>\n",
       "      <td>21543999488</td>\n",
       "      <td>17072000000</td>\n",
       "      <td>0.560</td>\n",
       "      <td>CAD</td>\n",
       "      <td>12.502</td>\n",
       "      <td>ca_market</td>\n",
       "    </tr>\n",
       "    <tr>\n",
       "      <th>56</th>\n",
       "      <td>TRI.TO</td>\n",
       "      <td>THOMSON REUTERS CORPORATION</td>\n",
       "      <td>Thomson Reuters Corporation</td>\n",
       "      <td>Industrials</td>\n",
       "      <td>Thomson Reuters Corporation provides business ...</td>\n",
       "      <td>Toronto</td>\n",
       "      <td>ON</td>\n",
       "      <td>Canada</td>\n",
       "      <td>https://www.tr.com</td>\n",
       "      <td>Specialty Business Services</td>\n",
       "      <td>...</td>\n",
       "      <td>27.767</td>\n",
       "      <td>0.11358</td>\n",
       "      <td>173.03</td>\n",
       "      <td>703000000</td>\n",
       "      <td>4060999936</td>\n",
       "      <td>6441999872</td>\n",
       "      <td>1.443</td>\n",
       "      <td>USD</td>\n",
       "      <td>13.117</td>\n",
       "      <td>ca_market</td>\n",
       "    </tr>\n",
       "    <tr>\n",
       "      <th>57</th>\n",
       "      <td>TD.TO</td>\n",
       "      <td>TORONTO-DOMINION BANK</td>\n",
       "      <td>The Toronto-Dominion Bank</td>\n",
       "      <td>Financial Services</td>\n",
       "      <td>The Toronto-Dominion Bank, together with its s...</td>\n",
       "      <td>Toronto</td>\n",
       "      <td>ON</td>\n",
       "      <td>Canada</td>\n",
       "      <td>https://www.td.com</td>\n",
       "      <td>Banks—Diversified</td>\n",
       "      <td>...</td>\n",
       "      <td>NaN</td>\n",
       "      <td>0.15336</td>\n",
       "      <td>100.73</td>\n",
       "      <td>543247990784</td>\n",
       "      <td>357727010816</td>\n",
       "      <td>44033998848</td>\n",
       "      <td>301.152</td>\n",
       "      <td>CAD</td>\n",
       "      <td>24.244</td>\n",
       "      <td>ca_market</td>\n",
       "    </tr>\n",
       "    <tr>\n",
       "      <th>58</th>\n",
       "      <td>WCN.TO</td>\n",
       "      <td>WASTE CONNECTIONS INC</td>\n",
       "      <td>Waste Connections, Inc.</td>\n",
       "      <td>Industrials</td>\n",
       "      <td>Waste Connections, Inc. provides non-hazardous...</td>\n",
       "      <td>Woodbridge</td>\n",
       "      <td>ON</td>\n",
       "      <td>Canada</td>\n",
       "      <td>https://www.wasteconnections.com</td>\n",
       "      <td>Waste Management</td>\n",
       "      <td>...</td>\n",
       "      <td>89.375</td>\n",
       "      <td>0.09321</td>\n",
       "      <td>227.92</td>\n",
       "      <td>391416992</td>\n",
       "      <td>6040936960</td>\n",
       "      <td>6401674240</td>\n",
       "      <td>1.522</td>\n",
       "      <td>USD</td>\n",
       "      <td>24.600</td>\n",
       "      <td>ca_market</td>\n",
       "    </tr>\n",
       "    <tr>\n",
       "      <th>59</th>\n",
       "      <td>WPM.TO</td>\n",
       "      <td>WHEATON PRECIOUS METALS CORP</td>\n",
       "      <td>Wheaton Precious Metals Corp.</td>\n",
       "      <td>Basic Materials</td>\n",
       "      <td>Wheaton Precious Metals Corp., a streaming com...</td>\n",
       "      <td>Vancouver</td>\n",
       "      <td>BC</td>\n",
       "      <td>Canada</td>\n",
       "      <td>https://www.wheatonpm.com</td>\n",
       "      <td>Gold</td>\n",
       "      <td>...</td>\n",
       "      <td>0.042</td>\n",
       "      <td>0.12328</td>\n",
       "      <td>51.05</td>\n",
       "      <td>376163008</td>\n",
       "      <td>2698000</td>\n",
       "      <td>1184790016</td>\n",
       "      <td>0.833</td>\n",
       "      <td>USD</td>\n",
       "      <td>2.630</td>\n",
       "      <td>ca_market</td>\n",
       "    </tr>\n",
       "  </tbody>\n",
       "</table>\n",
       "<p>5 rows × 38 columns</p>\n",
       "</div>"
      ],
      "text/plain": [
       "    symbol                     shortName                       longName  \\\n",
       "55    T.TO             TELUS CORPORATION              TELUS Corporation   \n",
       "56  TRI.TO   THOMSON REUTERS CORPORATION    Thomson Reuters Corporation   \n",
       "57   TD.TO         TORONTO-DOMINION BANK      The Toronto-Dominion Bank   \n",
       "58  WCN.TO         WASTE CONNECTIONS INC        Waste Connections, Inc.   \n",
       "59  WPM.TO  WHEATON PRECIOUS METALS CORP  Wheaton Precious Metals Corp.   \n",
       "\n",
       "                    sector                                longBusinessSummary  \\\n",
       "55  Communication Services  TELUS Corporation, together with its subsidiar...   \n",
       "56             Industrials  Thomson Reuters Corporation provides business ...   \n",
       "57      Financial Services  The Toronto-Dominion Bank, together with its s...   \n",
       "58             Industrials  Waste Connections, Inc. provides non-hazardous...   \n",
       "59         Basic Materials  Wheaton Precious Metals Corp., a streaming com...   \n",
       "\n",
       "          city state country                           website  \\\n",
       "55   Vancouver    BC  Canada             https://www.telus.com   \n",
       "56     Toronto    ON  Canada                https://www.tr.com   \n",
       "57     Toronto    ON  Canada                https://www.td.com   \n",
       "58  Woodbridge    ON  Canada  https://www.wasteconnections.com   \n",
       "59   Vancouver    BC  Canada         https://www.wheatonpm.com   \n",
       "\n",
       "                       industry  ...  debtToEquity  returnOnEquity  \\\n",
       "55             Telecom Services  ...       131.334         0.11103   \n",
       "56  Specialty Business Services  ...        27.767         0.11358   \n",
       "57            Banks—Diversified  ...           NaN         0.15336   \n",
       "58             Waste Management  ...        89.375         0.09321   \n",
       "59                         Gold  ...         0.042         0.12328   \n",
       "\n",
       "    targetHighPrice     totalCash     totalDebt  totalRevenue  \\\n",
       "55            36.00     774000000   21543999488   17072000000   \n",
       "56           173.03     703000000    4060999936    6441999872   \n",
       "57           100.73  543247990784  357727010816   44033998848   \n",
       "58           227.92     391416992    6040936960    6401674240   \n",
       "59            51.05     376163008       2698000    1184790016   \n",
       "\n",
       "   totalCashPerShare  financialCurrency revenuePerShare     market  \n",
       "55             0.560                CAD          12.502  ca_market  \n",
       "56             1.443                USD          13.117  ca_market  \n",
       "57           301.152                CAD          24.244  ca_market  \n",
       "58             1.522                USD          24.600  ca_market  \n",
       "59             0.833                USD           2.630  ca_market  \n",
       "\n",
       "[5 rows x 38 columns]"
      ]
     },
     "execution_count": 53,
     "metadata": {},
     "output_type": "execute_result"
    }
   ],
   "source": [
    "subTSX_Fundamental.tail()"
   ]
  },
  {
   "cell_type": "markdown",
   "metadata": {},
   "source": [
    "#### Download Dow Jones's Fundamental Data"
   ]
  },
  {
   "cell_type": "code",
   "execution_count": 54,
   "metadata": {},
   "outputs": [],
   "source": [
    "DOWFundamental = download_fundamental(tickerDOW)"
   ]
  },
  {
   "cell_type": "code",
   "execution_count": 55,
   "metadata": {},
   "outputs": [],
   "source": [
    "subDOWFundamental = DOWFundamental[select_columns]"
   ]
  },
  {
   "cell_type": "markdown",
   "metadata": {},
   "source": []
  },
  {
   "cell_type": "markdown",
   "metadata": {},
   "source": [
    "# 4. Download market historical prices"
   ]
  },
  {
   "cell_type": "code",
   "execution_count": 57,
   "metadata": {},
   "outputs": [],
   "source": [
    "index_list = ['TX60.TS', '^DJI', '^GSPC','^IXIC']"
   ]
  },
  {
   "cell_type": "code",
   "execution_count": 59,
   "metadata": {},
   "outputs": [
    {
     "name": "stdout",
     "output_type": "stream",
     "text": [
      "[*********************100%***********************]  1 of 1 completed\n",
      "[*********************100%***********************]  1 of 1 completed\n",
      "[*********************100%***********************]  1 of 1 completed\n",
      "[*********************100%***********************]  1 of 1 completed\n"
     ]
    }
   ],
   "source": [
    "index_price_data = getData(index_list)"
   ]
  },
  {
   "cell_type": "code",
   "execution_count": 60,
   "metadata": {},
   "outputs": [],
   "source": [
    "merge_index_price_data = merge_data(index_price_data, index_list)"
   ]
  },
  {
   "cell_type": "code",
   "execution_count": 61,
   "metadata": {},
   "outputs": [
    {
     "data": {
      "text/html": [
       "<div>\n",
       "<style scoped>\n",
       "    .dataframe tbody tr th:only-of-type {\n",
       "        vertical-align: middle;\n",
       "    }\n",
       "\n",
       "    .dataframe tbody tr th {\n",
       "        vertical-align: top;\n",
       "    }\n",
       "\n",
       "    .dataframe thead th {\n",
       "        text-align: right;\n",
       "    }\n",
       "</style>\n",
       "<table border=\"1\" class=\"dataframe\">\n",
       "  <thead>\n",
       "    <tr style=\"text-align: right;\">\n",
       "      <th></th>\n",
       "      <th>Date</th>\n",
       "      <th>Open</th>\n",
       "      <th>High</th>\n",
       "      <th>Low</th>\n",
       "      <th>Close</th>\n",
       "      <th>Adj Close</th>\n",
       "      <th>Volume</th>\n",
       "      <th>Symbol</th>\n",
       "    </tr>\n",
       "  </thead>\n",
       "  <tbody>\n",
       "    <tr>\n",
       "      <th>0</th>\n",
       "      <td>2022-09-16</td>\n",
       "      <td>1171.530029</td>\n",
       "      <td>1174.510010</td>\n",
       "      <td>1166.209961</td>\n",
       "      <td>1172.619995</td>\n",
       "      <td>1172.619995</td>\n",
       "      <td>294512587</td>\n",
       "      <td>TX60.TS</td>\n",
       "    </tr>\n",
       "    <tr>\n",
       "      <th>1</th>\n",
       "      <td>1992-01-02</td>\n",
       "      <td>3152.100098</td>\n",
       "      <td>3172.629883</td>\n",
       "      <td>3139.310059</td>\n",
       "      <td>3172.399902</td>\n",
       "      <td>3172.399902</td>\n",
       "      <td>23550000</td>\n",
       "      <td>^DJI</td>\n",
       "    </tr>\n",
       "    <tr>\n",
       "      <th>2</th>\n",
       "      <td>1992-01-03</td>\n",
       "      <td>3172.399902</td>\n",
       "      <td>3210.639893</td>\n",
       "      <td>3165.919922</td>\n",
       "      <td>3201.500000</td>\n",
       "      <td>3201.500000</td>\n",
       "      <td>23620000</td>\n",
       "      <td>^DJI</td>\n",
       "    </tr>\n",
       "    <tr>\n",
       "      <th>3</th>\n",
       "      <td>1992-01-06</td>\n",
       "      <td>3201.500000</td>\n",
       "      <td>3213.330078</td>\n",
       "      <td>3191.860107</td>\n",
       "      <td>3200.100098</td>\n",
       "      <td>3200.100098</td>\n",
       "      <td>27280000</td>\n",
       "      <td>^DJI</td>\n",
       "    </tr>\n",
       "    <tr>\n",
       "      <th>4</th>\n",
       "      <td>1992-01-07</td>\n",
       "      <td>3200.100098</td>\n",
       "      <td>3210.199951</td>\n",
       "      <td>3184.479980</td>\n",
       "      <td>3204.800049</td>\n",
       "      <td>3204.800049</td>\n",
       "      <td>25510000</td>\n",
       "      <td>^DJI</td>\n",
       "    </tr>\n",
       "  </tbody>\n",
       "</table>\n",
       "</div>"
      ],
      "text/plain": [
       "        Date         Open         High          Low        Close    Adj Close  \\\n",
       "0 2022-09-16  1171.530029  1174.510010  1166.209961  1172.619995  1172.619995   \n",
       "1 1992-01-02  3152.100098  3172.629883  3139.310059  3172.399902  3172.399902   \n",
       "2 1992-01-03  3172.399902  3210.639893  3165.919922  3201.500000  3201.500000   \n",
       "3 1992-01-06  3201.500000  3213.330078  3191.860107  3200.100098  3200.100098   \n",
       "4 1992-01-07  3200.100098  3210.199951  3184.479980  3204.800049  3204.800049   \n",
       "\n",
       "      Volume   Symbol  \n",
       "0  294512587  TX60.TS  \n",
       "1   23550000     ^DJI  \n",
       "2   23620000     ^DJI  \n",
       "3   27280000     ^DJI  \n",
       "4   25510000     ^DJI  "
      ]
     },
     "execution_count": 61,
     "metadata": {},
     "output_type": "execute_result"
    }
   ],
   "source": [
    "merge_index_price_data.head()"
   ]
  },
  {
   "cell_type": "code",
   "execution_count": 62,
   "metadata": {},
   "outputs": [
    {
     "data": {
      "text/plain": [
       "(39051, 8)"
      ]
     },
     "execution_count": 62,
     "metadata": {},
     "output_type": "execute_result"
    }
   ],
   "source": [
    "merge_index_price_data.shape"
   ]
  },
  {
   "cell_type": "markdown",
   "metadata": {},
   "source": [
    "# 5. Create database & import data into DJIA table"
   ]
  },
  {
   "cell_type": "code",
   "execution_count": 63,
   "metadata": {},
   "outputs": [],
   "source": [
    "# Create engine \n",
    "stockengine = createengine('StockDatabase')"
   ]
  },
  {
   "cell_type": "code",
   "execution_count": 64,
   "metadata": {},
   "outputs": [
    {
     "name": "stdout",
     "output_type": "stream",
     "text": [
      "Successfully imported data\n"
     ]
    }
   ],
   "source": [
    "#Create table for DJIA Historical Prices\n",
    "toSQL(new_USDOWJONES, \"DJIA_Historical_Data\", stockengine)"
   ]
  },
  {
   "cell_type": "code",
   "execution_count": 65,
   "metadata": {},
   "outputs": [
    {
     "name": "stdout",
     "output_type": "stream",
     "text": [
      "Successfully imported data\n"
     ]
    }
   ],
   "source": [
    "#Create table for TSX60 Historical Prices\n",
    "toSQL(new_TSX60, \"TSX60_Historical_Data\", stockengine)"
   ]
  },
  {
   "cell_type": "code",
   "execution_count": 66,
   "metadata": {},
   "outputs": [
    {
     "name": "stdout",
     "output_type": "stream",
     "text": [
      "Successfully imported data\n"
     ]
    }
   ],
   "source": [
    "toSQL(subTSX_Fundamental, \"TSX60_Fundamental\", stockengine)"
   ]
  },
  {
   "cell_type": "code",
   "execution_count": 67,
   "metadata": {},
   "outputs": [
    {
     "name": "stdout",
     "output_type": "stream",
     "text": [
      "Successfully imported data\n"
     ]
    }
   ],
   "source": [
    "toSQL(subDOWFundamental, \"DOW_Fundamental\", stockengine)"
   ]
  },
  {
   "cell_type": "code",
   "execution_count": 68,
   "metadata": {},
   "outputs": [
    {
     "name": "stdout",
     "output_type": "stream",
     "text": [
      "Successfully imported data\n"
     ]
    }
   ],
   "source": [
    "toSQL(merge_index_price_data, \"Markets\", stockengine)"
   ]
  },
  {
   "cell_type": "code",
   "execution_count": 69,
   "metadata": {},
   "outputs": [
    {
     "data": {
      "text/plain": [
       "True"
      ]
     },
     "execution_count": 69,
     "metadata": {},
     "output_type": "execute_result"
    }
   ],
   "source": [
    "'CNQ.TO' in newtickerTSX"
   ]
  },
  {
   "cell_type": "markdown",
   "metadata": {},
   "source": []
  }
 ],
 "metadata": {
  "kernelspec": {
   "display_name": "Python 3.10.6 ('myenv_ds')",
   "language": "python",
   "name": "python3"
  },
  "language_info": {
   "codemirror_mode": {
    "name": "ipython",
    "version": 3
   },
   "file_extension": ".py",
   "mimetype": "text/x-python",
   "name": "python",
   "nbconvert_exporter": "python",
   "pygments_lexer": "ipython3",
   "version": "3.10.6"
  },
  "orig_nbformat": 4,
  "vscode": {
   "interpreter": {
    "hash": "8487bc423e1672b6e34bd450aa0cc4ac849f14523c362ca351dbb3d5db860be2"
   }
  }
 },
 "nbformat": 4,
 "nbformat_minor": 2
}

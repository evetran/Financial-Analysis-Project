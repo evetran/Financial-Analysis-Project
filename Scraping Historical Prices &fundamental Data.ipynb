{
 "cells": [
  {
   "cell_type": "markdown",
   "metadata": {},
   "source": [
    "## Create Stock Price DataBase with Python & SQL"
   ]
  },
  {
   "cell_type": "markdown",
   "metadata": {},
   "source": [
    "### Contents:\n",
    "\n",
    "1. Create functions\n",
    "2. Dow Jones Industrial Average (DJIA)\n",
    "    - Scrape ticker lists from Wikipedia \n",
    "    - Download historical data from from Yahoo! Finance's API \n",
    "3. S&P/TSX60 \n",
    "    - Scrape ticker lists from Wikipedia\n",
    "    - Cleaning data for ticker lists to meet Yahoo! Finance's API\n",
    "    - Download historical data from from Yahoo! Finance's API\n",
    "4. Download fundamental data from Yahoo! Finance's API\n",
    "5. Market information\n",
    "    - Download historical market data for some important indexes\n",
    "6. Create and import data into SQLite database\n",
    "\n",
    "I am going to use this data for building a financial Analysis Dashboard on Power Bi and answer some questions about financial analysis using SQL"
   ]
  },
  {
   "cell_type": "code",
   "execution_count": 6,
   "metadata": {},
   "outputs": [],
   "source": [
    "# Import important packages\n",
    "import sqlalchemy\n",
    "import yfinance as yf\n",
    "import pandas as pd"
   ]
  },
  {
   "cell_type": "markdown",
   "metadata": {},
   "source": [
    "##### The yfinance Ticker object:\n",
    "* _start_ and _end_ dates\n",
    "* _period_ instead of start/end\n",
    "* valid periods: 1d, 5d, 1mo, 3mo, 6mo, 1y, 2y, 5y, 10y, ytd, max\n",
    "* valid intervals: 1m, 2m, 5m, 15m, 30m, 60m, 90m, 1h, 1d, 5d, 1w, 1mo, 3mo\n",
    "* _actions=True_: (Optional) inclues info on both dividends and splits.\n",
    "* _prepost=True_: (Optional) download pre/post regular market hours data"
   ]
  },
  {
   "cell_type": "markdown",
   "metadata": {},
   "source": [
    "## 1. Create Functions"
   ]
  },
  {
   "cell_type": "code",
   "execution_count": 7,
   "metadata": {},
   "outputs": [],
   "source": [
    "# Function to collect data\n",
    "def getData(tickers):\n",
    "    data = []\n",
    "    for ticker in tickers:\n",
    "        data.append(yf.download(ticker, period='max').reset_index())\n",
    "    return data\n",
    "\n",
    "\n",
    "#Function to create symbol column and merge multiple data into one dataframe\n",
    "def merge_data(frames, symbols):\n",
    "    for i in range(len(frames)):\n",
    "        frames[i]['Symbol'] = symbols[i]\n",
    "    newframes = [df.set_index(['Date', 'Open', 'High', 'Low', 'Close', 'Adj Close', 'Volume', 'Symbol']) for df in frames]\n",
    "    merged_df = pd.concat(newframes, axis=1).reset_index()\n",
    "    return merged_df\n",
    "\n",
    "\n",
    "#Function to create engine for database\n",
    "def createengine(name):\n",
    "    engine = sqlalchemy.create_engine('sqlite:///' + name +'.db')\n",
    "    return engine\n",
    "\n",
    "\n",
    "#Function to import data to database\n",
    "def toSQL(frames,name_table, engine):\n",
    "    frames.to_sql(name_table, engine, index=False)\n",
    "    print('Successfully imported data')"
   ]
  },
  {
   "cell_type": "markdown",
   "metadata": {},
   "source": []
  },
  {
   "cell_type": "markdown",
   "metadata": {},
   "source": [
    "## 2. Dow Jones Industrial Average (^DJI)"
   ]
  },
  {
   "cell_type": "markdown",
   "metadata": {},
   "source": [
    "### Scrape ticker lists from Wikipedia"
   ]
  },
  {
   "cell_type": "code",
   "execution_count": 8,
   "metadata": {},
   "outputs": [],
   "source": [
    "#Download tickers of ^DJI on wikipedia website\n",
    "wiki = 'https://en.wikipedia.org/wiki/'\n",
    "\n",
    "tickerDOW = pd.read_html(wiki+'Dow_Jones_Industrial_Average')[1].Symbol.to_list()"
   ]
  },
  {
   "cell_type": "markdown",
   "metadata": {},
   "source": [
    "### Using function to download data"
   ]
  },
  {
   "cell_type": "code",
   "execution_count": 9,
   "metadata": {},
   "outputs": [
    {
     "name": "stdout",
     "output_type": "stream",
     "text": [
      "[*********************100%***********************]  1 of 1 completed\n",
      "[*********************100%***********************]  1 of 1 completed\n",
      "[*********************100%***********************]  1 of 1 completed\n",
      "[*********************100%***********************]  1 of 1 completed\n",
      "[*********************100%***********************]  1 of 1 completed\n",
      "[*********************100%***********************]  1 of 1 completed\n",
      "[*********************100%***********************]  1 of 1 completed\n",
      "[*********************100%***********************]  1 of 1 completed\n",
      "[*********************100%***********************]  1 of 1 completed\n",
      "[*********************100%***********************]  1 of 1 completed\n",
      "[*********************100%***********************]  1 of 1 completed\n",
      "[*********************100%***********************]  1 of 1 completed\n",
      "[*********************100%***********************]  1 of 1 completed\n",
      "[*********************100%***********************]  1 of 1 completed\n",
      "[*********************100%***********************]  1 of 1 completed\n",
      "[*********************100%***********************]  1 of 1 completed\n",
      "[*********************100%***********************]  1 of 1 completed\n",
      "[*********************100%***********************]  1 of 1 completed\n",
      "[*********************100%***********************]  1 of 1 completed\n",
      "[*********************100%***********************]  1 of 1 completed\n",
      "[*********************100%***********************]  1 of 1 completed\n",
      "[*********************100%***********************]  1 of 1 completed\n",
      "[*********************100%***********************]  1 of 1 completed\n",
      "[*********************100%***********************]  1 of 1 completed\n",
      "[*********************100%***********************]  1 of 1 completed\n",
      "[*********************100%***********************]  1 of 1 completed\n",
      "[*********************100%***********************]  1 of 1 completed\n",
      "[*********************100%***********************]  1 of 1 completed\n",
      "[*********************100%***********************]  1 of 1 completed\n",
      "[*********************100%***********************]  1 of 1 completed\n"
     ]
    }
   ],
   "source": [
    "USDOWJONES = getData(tickerDOW)"
   ]
  },
  {
   "cell_type": "markdown",
   "metadata": {},
   "source": [
    "Since different ticker have different dataframes, I will create symbol column and merge data into one dataframes"
   ]
  },
  {
   "cell_type": "code",
   "execution_count": 10,
   "metadata": {},
   "outputs": [],
   "source": [
    "new_USDOWJONES = merge_data(USDOWJONES, tickerDOW)"
   ]
  },
  {
   "cell_type": "code",
   "execution_count": 11,
   "metadata": {},
   "outputs": [
    {
     "data": {
      "text/html": [
       "<div>\n",
       "<style scoped>\n",
       "    .dataframe tbody tr th:only-of-type {\n",
       "        vertical-align: middle;\n",
       "    }\n",
       "\n",
       "    .dataframe tbody tr th {\n",
       "        vertical-align: top;\n",
       "    }\n",
       "\n",
       "    .dataframe thead th {\n",
       "        text-align: right;\n",
       "    }\n",
       "</style>\n",
       "<table border=\"1\" class=\"dataframe\">\n",
       "  <thead>\n",
       "    <tr style=\"text-align: right;\">\n",
       "      <th></th>\n",
       "      <th>Date</th>\n",
       "      <th>Open</th>\n",
       "      <th>High</th>\n",
       "      <th>Low</th>\n",
       "      <th>Close</th>\n",
       "      <th>Adj Close</th>\n",
       "      <th>Volume</th>\n",
       "      <th>Symbol</th>\n",
       "    </tr>\n",
       "  </thead>\n",
       "  <tbody>\n",
       "    <tr>\n",
       "      <th>0</th>\n",
       "      <td>1962-01-02</td>\n",
       "      <td>0.000000</td>\n",
       "      <td>4.250000</td>\n",
       "      <td>4.125000</td>\n",
       "      <td>4.156250</td>\n",
       "      <td>0.754036</td>\n",
       "      <td>212800</td>\n",
       "      <td>MMM</td>\n",
       "    </tr>\n",
       "    <tr>\n",
       "      <th>1</th>\n",
       "      <td>1962-01-03</td>\n",
       "      <td>0.000000</td>\n",
       "      <td>4.187500</td>\n",
       "      <td>4.085938</td>\n",
       "      <td>4.187500</td>\n",
       "      <td>0.759706</td>\n",
       "      <td>422400</td>\n",
       "      <td>MMM</td>\n",
       "    </tr>\n",
       "    <tr>\n",
       "      <th>2</th>\n",
       "      <td>1962-01-04</td>\n",
       "      <td>0.000000</td>\n",
       "      <td>4.257813</td>\n",
       "      <td>4.187500</td>\n",
       "      <td>4.187500</td>\n",
       "      <td>0.759706</td>\n",
       "      <td>212800</td>\n",
       "      <td>MMM</td>\n",
       "    </tr>\n",
       "    <tr>\n",
       "      <th>3</th>\n",
       "      <td>1962-01-05</td>\n",
       "      <td>0.000000</td>\n",
       "      <td>4.171875</td>\n",
       "      <td>4.062500</td>\n",
       "      <td>4.078125</td>\n",
       "      <td>0.739863</td>\n",
       "      <td>315200</td>\n",
       "      <td>MMM</td>\n",
       "    </tr>\n",
       "    <tr>\n",
       "      <th>4</th>\n",
       "      <td>1962-01-08</td>\n",
       "      <td>0.000000</td>\n",
       "      <td>4.085938</td>\n",
       "      <td>4.031250</td>\n",
       "      <td>4.054688</td>\n",
       "      <td>0.735610</td>\n",
       "      <td>334400</td>\n",
       "      <td>MMM</td>\n",
       "    </tr>\n",
       "    <tr>\n",
       "      <th>...</th>\n",
       "      <td>...</td>\n",
       "      <td>...</td>\n",
       "      <td>...</td>\n",
       "      <td>...</td>\n",
       "      <td>...</td>\n",
       "      <td>...</td>\n",
       "      <td>...</td>\n",
       "      <td>...</td>\n",
       "    </tr>\n",
       "    <tr>\n",
       "      <th>344531</th>\n",
       "      <td>2022-09-08</td>\n",
       "      <td>135.399994</td>\n",
       "      <td>136.869995</td>\n",
       "      <td>134.880005</td>\n",
       "      <td>136.429993</td>\n",
       "      <td>136.429993</td>\n",
       "      <td>5652000</td>\n",
       "      <td>WMT</td>\n",
       "    </tr>\n",
       "    <tr>\n",
       "      <th>344532</th>\n",
       "      <td>2022-09-09</td>\n",
       "      <td>136.300003</td>\n",
       "      <td>137.500000</td>\n",
       "      <td>136.130005</td>\n",
       "      <td>136.839996</td>\n",
       "      <td>136.839996</td>\n",
       "      <td>5380200</td>\n",
       "      <td>WMT</td>\n",
       "    </tr>\n",
       "    <tr>\n",
       "      <th>344533</th>\n",
       "      <td>2022-09-12</td>\n",
       "      <td>137.080002</td>\n",
       "      <td>138.250000</td>\n",
       "      <td>136.970001</td>\n",
       "      <td>138.070007</td>\n",
       "      <td>138.070007</td>\n",
       "      <td>4761500</td>\n",
       "      <td>WMT</td>\n",
       "    </tr>\n",
       "    <tr>\n",
       "      <th>344534</th>\n",
       "      <td>2022-09-13</td>\n",
       "      <td>136.860001</td>\n",
       "      <td>137.949997</td>\n",
       "      <td>134.809998</td>\n",
       "      <td>135.220001</td>\n",
       "      <td>135.220001</td>\n",
       "      <td>5895800</td>\n",
       "      <td>WMT</td>\n",
       "    </tr>\n",
       "    <tr>\n",
       "      <th>344535</th>\n",
       "      <td>2022-09-14</td>\n",
       "      <td>135.630005</td>\n",
       "      <td>136.529999</td>\n",
       "      <td>134.100006</td>\n",
       "      <td>134.919998</td>\n",
       "      <td>134.919998</td>\n",
       "      <td>6643800</td>\n",
       "      <td>WMT</td>\n",
       "    </tr>\n",
       "  </tbody>\n",
       "</table>\n",
       "<p>344536 rows × 8 columns</p>\n",
       "</div>"
      ],
      "text/plain": [
       "             Date        Open        High         Low       Close   Adj Close  \\\n",
       "0      1962-01-02    0.000000    4.250000    4.125000    4.156250    0.754036   \n",
       "1      1962-01-03    0.000000    4.187500    4.085938    4.187500    0.759706   \n",
       "2      1962-01-04    0.000000    4.257813    4.187500    4.187500    0.759706   \n",
       "3      1962-01-05    0.000000    4.171875    4.062500    4.078125    0.739863   \n",
       "4      1962-01-08    0.000000    4.085938    4.031250    4.054688    0.735610   \n",
       "...           ...         ...         ...         ...         ...         ...   \n",
       "344531 2022-09-08  135.399994  136.869995  134.880005  136.429993  136.429993   \n",
       "344532 2022-09-09  136.300003  137.500000  136.130005  136.839996  136.839996   \n",
       "344533 2022-09-12  137.080002  138.250000  136.970001  138.070007  138.070007   \n",
       "344534 2022-09-13  136.860001  137.949997  134.809998  135.220001  135.220001   \n",
       "344535 2022-09-14  135.630005  136.529999  134.100006  134.919998  134.919998   \n",
       "\n",
       "         Volume Symbol  \n",
       "0        212800    MMM  \n",
       "1        422400    MMM  \n",
       "2        212800    MMM  \n",
       "3        315200    MMM  \n",
       "4        334400    MMM  \n",
       "...         ...    ...  \n",
       "344531  5652000    WMT  \n",
       "344532  5380200    WMT  \n",
       "344533  4761500    WMT  \n",
       "344534  5895800    WMT  \n",
       "344535  6643800    WMT  \n",
       "\n",
       "[344536 rows x 8 columns]"
      ]
     },
     "execution_count": 11,
     "metadata": {},
     "output_type": "execute_result"
    }
   ],
   "source": [
    "new_USDOWJONES"
   ]
  },
  {
   "cell_type": "markdown",
   "metadata": {},
   "source": [
    "Check if the data downloaded is correct or not"
   ]
  },
  {
   "cell_type": "code",
   "execution_count": 12,
   "metadata": {},
   "outputs": [
    {
     "data": {
      "text/html": [
       "<div>\n",
       "<style scoped>\n",
       "    .dataframe tbody tr th:only-of-type {\n",
       "        vertical-align: middle;\n",
       "    }\n",
       "\n",
       "    .dataframe tbody tr th {\n",
       "        vertical-align: top;\n",
       "    }\n",
       "\n",
       "    .dataframe thead th {\n",
       "        text-align: right;\n",
       "    }\n",
       "</style>\n",
       "<table border=\"1\" class=\"dataframe\">\n",
       "  <thead>\n",
       "    <tr style=\"text-align: right;\">\n",
       "      <th></th>\n",
       "      <th>Date</th>\n",
       "      <th>Open</th>\n",
       "      <th>High</th>\n",
       "      <th>Low</th>\n",
       "      <th>Close</th>\n",
       "      <th>Adj Close</th>\n",
       "      <th>Volume</th>\n",
       "      <th>Symbol</th>\n",
       "    </tr>\n",
       "  </thead>\n",
       "  <tbody>\n",
       "    <tr>\n",
       "      <th>0</th>\n",
       "      <td>1962-01-02</td>\n",
       "      <td>0.0</td>\n",
       "      <td>4.250000</td>\n",
       "      <td>4.125000</td>\n",
       "      <td>4.156250</td>\n",
       "      <td>0.754036</td>\n",
       "      <td>212800</td>\n",
       "      <td>MMM</td>\n",
       "    </tr>\n",
       "    <tr>\n",
       "      <th>1</th>\n",
       "      <td>1962-01-03</td>\n",
       "      <td>0.0</td>\n",
       "      <td>4.187500</td>\n",
       "      <td>4.085938</td>\n",
       "      <td>4.187500</td>\n",
       "      <td>0.759706</td>\n",
       "      <td>422400</td>\n",
       "      <td>MMM</td>\n",
       "    </tr>\n",
       "    <tr>\n",
       "      <th>2</th>\n",
       "      <td>1962-01-04</td>\n",
       "      <td>0.0</td>\n",
       "      <td>4.257813</td>\n",
       "      <td>4.187500</td>\n",
       "      <td>4.187500</td>\n",
       "      <td>0.759706</td>\n",
       "      <td>212800</td>\n",
       "      <td>MMM</td>\n",
       "    </tr>\n",
       "    <tr>\n",
       "      <th>3</th>\n",
       "      <td>1962-01-05</td>\n",
       "      <td>0.0</td>\n",
       "      <td>4.171875</td>\n",
       "      <td>4.062500</td>\n",
       "      <td>4.078125</td>\n",
       "      <td>0.739863</td>\n",
       "      <td>315200</td>\n",
       "      <td>MMM</td>\n",
       "    </tr>\n",
       "    <tr>\n",
       "      <th>4</th>\n",
       "      <td>1962-01-08</td>\n",
       "      <td>0.0</td>\n",
       "      <td>4.085938</td>\n",
       "      <td>4.031250</td>\n",
       "      <td>4.054688</td>\n",
       "      <td>0.735610</td>\n",
       "      <td>334400</td>\n",
       "      <td>MMM</td>\n",
       "    </tr>\n",
       "  </tbody>\n",
       "</table>\n",
       "</div>"
      ],
      "text/plain": [
       "        Date  Open      High       Low     Close  Adj Close  Volume Symbol\n",
       "0 1962-01-02   0.0  4.250000  4.125000  4.156250   0.754036  212800    MMM\n",
       "1 1962-01-03   0.0  4.187500  4.085938  4.187500   0.759706  422400    MMM\n",
       "2 1962-01-04   0.0  4.257813  4.187500  4.187500   0.759706  212800    MMM\n",
       "3 1962-01-05   0.0  4.171875  4.062500  4.078125   0.739863  315200    MMM\n",
       "4 1962-01-08   0.0  4.085938  4.031250  4.054688   0.735610  334400    MMM"
      ]
     },
     "execution_count": 12,
     "metadata": {},
     "output_type": "execute_result"
    }
   ],
   "source": [
    "new_USDOWJONES.head()"
   ]
  },
  {
   "cell_type": "code",
   "execution_count": 13,
   "metadata": {},
   "outputs": [
    {
     "name": "stdout",
     "output_type": "stream",
     "text": [
      "[*********************100%***********************]  1 of 1 completed\n"
     ]
    },
    {
     "data": {
      "text/html": [
       "<div>\n",
       "<style scoped>\n",
       "    .dataframe tbody tr th:only-of-type {\n",
       "        vertical-align: middle;\n",
       "    }\n",
       "\n",
       "    .dataframe tbody tr th {\n",
       "        vertical-align: top;\n",
       "    }\n",
       "\n",
       "    .dataframe thead th {\n",
       "        text-align: right;\n",
       "    }\n",
       "</style>\n",
       "<table border=\"1\" class=\"dataframe\">\n",
       "  <thead>\n",
       "    <tr style=\"text-align: right;\">\n",
       "      <th></th>\n",
       "      <th>Date</th>\n",
       "      <th>Open</th>\n",
       "      <th>High</th>\n",
       "      <th>Low</th>\n",
       "      <th>Close</th>\n",
       "      <th>Adj Close</th>\n",
       "      <th>Volume</th>\n",
       "    </tr>\n",
       "  </thead>\n",
       "  <tbody>\n",
       "    <tr>\n",
       "      <th>0</th>\n",
       "      <td>1962-01-02</td>\n",
       "      <td>0.0</td>\n",
       "      <td>4.250000</td>\n",
       "      <td>4.125000</td>\n",
       "      <td>4.156250</td>\n",
       "      <td>0.754036</td>\n",
       "      <td>212800</td>\n",
       "    </tr>\n",
       "    <tr>\n",
       "      <th>1</th>\n",
       "      <td>1962-01-03</td>\n",
       "      <td>0.0</td>\n",
       "      <td>4.187500</td>\n",
       "      <td>4.085938</td>\n",
       "      <td>4.187500</td>\n",
       "      <td>0.759706</td>\n",
       "      <td>422400</td>\n",
       "    </tr>\n",
       "    <tr>\n",
       "      <th>2</th>\n",
       "      <td>1962-01-04</td>\n",
       "      <td>0.0</td>\n",
       "      <td>4.257813</td>\n",
       "      <td>4.187500</td>\n",
       "      <td>4.187500</td>\n",
       "      <td>0.759706</td>\n",
       "      <td>212800</td>\n",
       "    </tr>\n",
       "    <tr>\n",
       "      <th>3</th>\n",
       "      <td>1962-01-05</td>\n",
       "      <td>0.0</td>\n",
       "      <td>4.171875</td>\n",
       "      <td>4.062500</td>\n",
       "      <td>4.078125</td>\n",
       "      <td>0.739862</td>\n",
       "      <td>315200</td>\n",
       "    </tr>\n",
       "  </tbody>\n",
       "</table>\n",
       "</div>"
      ],
      "text/plain": [
       "        Date  Open      High       Low     Close  Adj Close  Volume\n",
       "0 1962-01-02   0.0  4.250000  4.125000  4.156250   0.754036  212800\n",
       "1 1962-01-03   0.0  4.187500  4.085938  4.187500   0.759706  422400\n",
       "2 1962-01-04   0.0  4.257813  4.187500  4.187500   0.759706  212800\n",
       "3 1962-01-05   0.0  4.171875  4.062500  4.078125   0.739862  315200"
      ]
     },
     "execution_count": 13,
     "metadata": {},
     "output_type": "execute_result"
    }
   ],
   "source": [
    "yf.download('MMM', start='1962-01-02', end='1962-01-08').reset_index()"
   ]
  },
  {
   "cell_type": "markdown",
   "metadata": {},
   "source": [
    "## 3. Download TSX60 -  a stock market index of 60 large companies listed on the Toronto Stock Exchange\n",
    "Summary: With Dow Jones Index, we do not have any problem when downloading data. But with TSX60, we will have error when using tickers scraped from Wikipedia to download data from Yahoo Finance API because:\n",
    "1. There are some tickers that have '.' instead of '-', for example BAM.A should be BAM-A\n",
    "2. TSX60 tickers have '.TO' at the end\n",
    "\n",
    "I am going to fix these issues"
   ]
  },
  {
   "cell_type": "markdown",
   "metadata": {},
   "source": [
    "### Scrape ticker lists from Wikipedia"
   ]
  },
  {
   "cell_type": "code",
   "execution_count": 14,
   "metadata": {},
   "outputs": [],
   "source": [
    "tickerTSX = pd.read_html(wiki+'S%26P/TSX_60')[0].Symbol.to_list()"
   ]
  },
  {
   "cell_type": "code",
   "execution_count": 15,
   "metadata": {},
   "outputs": [
    {
     "data": {
      "text/plain": [
       "['AEM', 'AQN', 'ATD', 'BCE', 'BMO', 'BNS', 'ABX', 'BHC', 'BAM.A', 'BIP.UN']"
      ]
     },
     "execution_count": 15,
     "metadata": {},
     "output_type": "execute_result"
    }
   ],
   "source": [
    "tickerTSX[:10]"
   ]
  },
  {
   "cell_type": "markdown",
   "metadata": {},
   "source": [
    "### Cleaning data for ticker lists to meet Yahoo! Finance's API standard"
   ]
  },
  {
   "cell_type": "markdown",
   "metadata": {},
   "source": [
    "After downloading and manually checking, I realize that the ticker number 39 is incorrect"
   ]
  },
  {
   "cell_type": "code",
   "execution_count": 16,
   "metadata": {},
   "outputs": [
    {
     "name": "stdout",
     "output_type": "stream",
     "text": [
      "nan 39 <class 'float'>\n"
     ]
    }
   ],
   "source": [
    "#Check the tickers are incorrect\n",
    "for i in range(len(tickerTSX)):\n",
    "    if type(tickerTSX[i]) != str:\n",
    "        print(tickerTSX[i], i, type(tickerTSX[i]))"
   ]
  },
  {
   "cell_type": "code",
   "execution_count": 17,
   "metadata": {},
   "outputs": [
    {
     "data": {
      "text/plain": [
       "'NA'"
      ]
     },
     "execution_count": 17,
     "metadata": {},
     "output_type": "execute_result"
    }
   ],
   "source": [
    "#Correct the incorrect ticker\n",
    "tickerTSX[39] = 'NA'\n",
    "tickerTSX[39]"
   ]
  },
  {
   "cell_type": "markdown",
   "metadata": {},
   "source": [
    "There are some tickers that have '.' instead of '-', and need to have '.TO' at the end."
   ]
  },
  {
   "cell_type": "code",
   "execution_count": 18,
   "metadata": {},
   "outputs": [
    {
     "name": "stdout",
     "output_type": "stream",
     "text": [
      "BAM.A\n",
      "BIP.UN\n",
      "CCL.B\n",
      "GIB.A\n",
      "CAR.UN\n",
      "CTC.A\n",
      "RCI.B\n",
      "SJR.B\n",
      "TECK.B\n"
     ]
    }
   ],
   "source": [
    "for ticker in tickerTSX:\n",
    "    if '.' in str(ticker):\n",
    "        print(ticker)"
   ]
  },
  {
   "cell_type": "code",
   "execution_count": 19,
   "metadata": {},
   "outputs": [
    {
     "name": "stdout",
     "output_type": "stream",
     "text": [
      "[*********************100%***********************]  1 of 1 completed\n",
      "\n",
      "1 Failed download:\n",
      "- CTC.A: No data found, symbol may be delisted\n"
     ]
    },
    {
     "data": {
      "text/plain": [
       "Series([], Name: Close, dtype: float64)"
      ]
     },
     "execution_count": 19,
     "metadata": {},
     "output_type": "execute_result"
    }
   ],
   "source": [
    "# I tried to download using this ticker but it failed\n",
    "yf.download('CTC.A')['Close']"
   ]
  },
  {
   "cell_type": "code",
   "execution_count": 20,
   "metadata": {},
   "outputs": [
    {
     "name": "stdout",
     "output_type": "stream",
     "text": [
      "[*********************100%***********************]  1 of 1 completed\n"
     ]
    },
    {
     "data": {
      "text/plain": [
       "Date\n",
       "1986-01-02     11.750000\n",
       "1986-01-03     11.630000\n",
       "1986-01-06     11.630000\n",
       "1986-01-07     11.750000\n",
       "1986-01-08     11.630000\n",
       "                 ...    \n",
       "2022-09-08    160.240005\n",
       "2022-09-09    160.509995\n",
       "2022-09-12    163.410004\n",
       "2022-09-13    162.130005\n",
       "2022-09-14    157.570007\n",
       "Name: Close, Length: 9226, dtype: float64"
      ]
     },
     "execution_count": 20,
     "metadata": {},
     "output_type": "execute_result"
    }
   ],
   "source": [
    "#The correct ticker has '-' and '.TO'\n",
    "yf.download('CTC-A.TO')['Close']"
   ]
  },
  {
   "cell_type": "code",
   "execution_count": 21,
   "metadata": {},
   "outputs": [],
   "source": [
    "#I am going to replace \".\" to \"-\" and add \".TO\" at the end of ticker\n",
    "newtickerTSX = []\n",
    "for ticker in tickerTSX:\n",
    "    if '.' in ticker:\n",
    "        dot_index = ticker.rfind('.')\n",
    "        newticker = ticker[:dot_index] + '-' + ticker[dot_index +1:] + '.TO'\n",
    "        newtickerTSX.append(newticker)\n",
    "    else:\n",
    "        newtickerTSX.append(str(ticker) + '.TO')  "
   ]
  },
  {
   "cell_type": "markdown",
   "metadata": {},
   "source": [
    "### Download historical data from from Yahoo! Finance's API"
   ]
  },
  {
   "cell_type": "code",
   "execution_count": 22,
   "metadata": {},
   "outputs": [
    {
     "name": "stdout",
     "output_type": "stream",
     "text": [
      "[*********************100%***********************]  1 of 1 completed\n",
      "[*********************100%***********************]  1 of 1 completed\n",
      "[*********************100%***********************]  1 of 1 completed\n",
      "[*********************100%***********************]  1 of 1 completed\n",
      "[*********************100%***********************]  1 of 1 completed\n",
      "[*********************100%***********************]  1 of 1 completed\n",
      "[*********************100%***********************]  1 of 1 completed\n",
      "[*********************100%***********************]  1 of 1 completed\n",
      "[*********************100%***********************]  1 of 1 completed\n",
      "[*********************100%***********************]  1 of 1 completed\n",
      "[*********************100%***********************]  1 of 1 completed\n",
      "[*********************100%***********************]  1 of 1 completed\n",
      "[*********************100%***********************]  1 of 1 completed\n",
      "[*********************100%***********************]  1 of 1 completed\n",
      "[*********************100%***********************]  1 of 1 completed\n",
      "[*********************100%***********************]  1 of 1 completed\n",
      "[*********************100%***********************]  1 of 1 completed\n",
      "[*********************100%***********************]  1 of 1 completed\n",
      "[*********************100%***********************]  1 of 1 completed\n",
      "[*********************100%***********************]  1 of 1 completed\n",
      "[*********************100%***********************]  1 of 1 completed\n",
      "[*********************100%***********************]  1 of 1 completed\n",
      "[*********************100%***********************]  1 of 1 completed\n",
      "[*********************100%***********************]  1 of 1 completed\n",
      "[*********************100%***********************]  1 of 1 completed\n",
      "[*********************100%***********************]  1 of 1 completed\n",
      "[*********************100%***********************]  1 of 1 completed\n",
      "[*********************100%***********************]  1 of 1 completed\n",
      "[*********************100%***********************]  1 of 1 completed\n",
      "[*********************100%***********************]  1 of 1 completed\n",
      "[*********************100%***********************]  1 of 1 completed\n",
      "[*********************100%***********************]  1 of 1 completed\n",
      "[*********************100%***********************]  1 of 1 completed\n",
      "[*********************100%***********************]  1 of 1 completed\n",
      "[*********************100%***********************]  1 of 1 completed\n",
      "[*********************100%***********************]  1 of 1 completed\n",
      "[*********************100%***********************]  1 of 1 completed\n",
      "[*********************100%***********************]  1 of 1 completed\n",
      "[*********************100%***********************]  1 of 1 completed\n",
      "[*********************100%***********************]  1 of 1 completed\n",
      "[*********************100%***********************]  1 of 1 completed\n",
      "[*********************100%***********************]  1 of 1 completed\n",
      "[*********************100%***********************]  1 of 1 completed\n",
      "[*********************100%***********************]  1 of 1 completed\n",
      "[*********************100%***********************]  1 of 1 completed\n",
      "[*********************100%***********************]  1 of 1 completed\n",
      "[*********************100%***********************]  1 of 1 completed\n",
      "[*********************100%***********************]  1 of 1 completed\n",
      "[*********************100%***********************]  1 of 1 completed\n",
      "[*********************100%***********************]  1 of 1 completed\n",
      "[*********************100%***********************]  1 of 1 completed\n",
      "[*********************100%***********************]  1 of 1 completed\n",
      "[*********************100%***********************]  1 of 1 completed\n",
      "[*********************100%***********************]  1 of 1 completed\n",
      "[*********************100%***********************]  1 of 1 completed\n",
      "[*********************100%***********************]  1 of 1 completed\n",
      "[*********************100%***********************]  1 of 1 completed\n",
      "[*********************100%***********************]  1 of 1 completed\n",
      "[*********************100%***********************]  1 of 1 completed\n",
      "[*********************100%***********************]  1 of 1 completed\n"
     ]
    }
   ],
   "source": [
    "# Download historical price data\n",
    "TSX60 = getData(newtickerTSX)"
   ]
  },
  {
   "cell_type": "code",
   "execution_count": 23,
   "metadata": {},
   "outputs": [
    {
     "data": {
      "text/html": [
       "<div>\n",
       "<style scoped>\n",
       "    .dataframe tbody tr th:only-of-type {\n",
       "        vertical-align: middle;\n",
       "    }\n",
       "\n",
       "    .dataframe tbody tr th {\n",
       "        vertical-align: top;\n",
       "    }\n",
       "\n",
       "    .dataframe thead th {\n",
       "        text-align: right;\n",
       "    }\n",
       "</style>\n",
       "<table border=\"1\" class=\"dataframe\">\n",
       "  <thead>\n",
       "    <tr style=\"text-align: right;\">\n",
       "      <th></th>\n",
       "      <th>Date</th>\n",
       "      <th>Open</th>\n",
       "      <th>High</th>\n",
       "      <th>Low</th>\n",
       "      <th>Close</th>\n",
       "      <th>Adj Close</th>\n",
       "      <th>Volume</th>\n",
       "      <th>Symbol</th>\n",
       "    </tr>\n",
       "  </thead>\n",
       "  <tbody>\n",
       "    <tr>\n",
       "      <th>0</th>\n",
       "      <td>1995-01-12</td>\n",
       "      <td>14.88</td>\n",
       "      <td>15.00</td>\n",
       "      <td>14.50</td>\n",
       "      <td>14.50</td>\n",
       "      <td>11.853491</td>\n",
       "      <td>147100</td>\n",
       "      <td>AEM.TO</td>\n",
       "    </tr>\n",
       "    <tr>\n",
       "      <th>1</th>\n",
       "      <td>1995-01-13</td>\n",
       "      <td>14.38</td>\n",
       "      <td>14.50</td>\n",
       "      <td>14.13</td>\n",
       "      <td>14.25</td>\n",
       "      <td>11.649123</td>\n",
       "      <td>26500</td>\n",
       "      <td>AEM.TO</td>\n",
       "    </tr>\n",
       "    <tr>\n",
       "      <th>2</th>\n",
       "      <td>1995-01-16</td>\n",
       "      <td>14.25</td>\n",
       "      <td>14.25</td>\n",
       "      <td>13.88</td>\n",
       "      <td>13.88</td>\n",
       "      <td>11.346649</td>\n",
       "      <td>3800</td>\n",
       "      <td>AEM.TO</td>\n",
       "    </tr>\n",
       "    <tr>\n",
       "      <th>3</th>\n",
       "      <td>1995-01-17</td>\n",
       "      <td>14.25</td>\n",
       "      <td>14.25</td>\n",
       "      <td>13.88</td>\n",
       "      <td>13.88</td>\n",
       "      <td>11.346649</td>\n",
       "      <td>18500</td>\n",
       "      <td>AEM.TO</td>\n",
       "    </tr>\n",
       "    <tr>\n",
       "      <th>4</th>\n",
       "      <td>1995-01-18</td>\n",
       "      <td>14.13</td>\n",
       "      <td>14.50</td>\n",
       "      <td>14.13</td>\n",
       "      <td>14.25</td>\n",
       "      <td>11.649123</td>\n",
       "      <td>18500</td>\n",
       "      <td>AEM.TO</td>\n",
       "    </tr>\n",
       "  </tbody>\n",
       "</table>\n",
       "</div>"
      ],
      "text/plain": [
       "        Date   Open   High    Low  Close  Adj Close  Volume  Symbol\n",
       "0 1995-01-12  14.88  15.00  14.50  14.50  11.853491  147100  AEM.TO\n",
       "1 1995-01-13  14.38  14.50  14.13  14.25  11.649123   26500  AEM.TO\n",
       "2 1995-01-16  14.25  14.25  13.88  13.88  11.346649    3800  AEM.TO\n",
       "3 1995-01-17  14.25  14.25  13.88  13.88  11.346649   18500  AEM.TO\n",
       "4 1995-01-18  14.13  14.50  14.13  14.25  11.649123   18500  AEM.TO"
      ]
     },
     "execution_count": 23,
     "metadata": {},
     "output_type": "execute_result"
    }
   ],
   "source": [
    "new_TSX60 = merge_data(TSX60, newtickerTSX)\n",
    "new_TSX60.head()"
   ]
  },
  {
   "cell_type": "code",
   "execution_count": 24,
   "metadata": {},
   "outputs": [
    {
     "data": {
      "text/html": [
       "<div>\n",
       "<style scoped>\n",
       "    .dataframe tbody tr th:only-of-type {\n",
       "        vertical-align: middle;\n",
       "    }\n",
       "\n",
       "    .dataframe tbody tr th {\n",
       "        vertical-align: top;\n",
       "    }\n",
       "\n",
       "    .dataframe thead th {\n",
       "        text-align: right;\n",
       "    }\n",
       "</style>\n",
       "<table border=\"1\" class=\"dataframe\">\n",
       "  <thead>\n",
       "    <tr style=\"text-align: right;\">\n",
       "      <th></th>\n",
       "      <th>Date</th>\n",
       "      <th>Open</th>\n",
       "      <th>High</th>\n",
       "      <th>Low</th>\n",
       "      <th>Close</th>\n",
       "      <th>Adj Close</th>\n",
       "      <th>Volume</th>\n",
       "      <th>Symbol</th>\n",
       "    </tr>\n",
       "  </thead>\n",
       "  <tbody>\n",
       "    <tr>\n",
       "      <th>342431</th>\n",
       "      <td>2022-09-08</td>\n",
       "      <td>41.750000</td>\n",
       "      <td>42.669998</td>\n",
       "      <td>41.560001</td>\n",
       "      <td>42.430000</td>\n",
       "      <td>42.430000</td>\n",
       "      <td>892900</td>\n",
       "      <td>WPM.TO</td>\n",
       "    </tr>\n",
       "    <tr>\n",
       "      <th>342432</th>\n",
       "      <td>2022-09-09</td>\n",
       "      <td>42.900002</td>\n",
       "      <td>43.209999</td>\n",
       "      <td>42.450001</td>\n",
       "      <td>43.060001</td>\n",
       "      <td>43.060001</td>\n",
       "      <td>957500</td>\n",
       "      <td>WPM.TO</td>\n",
       "    </tr>\n",
       "    <tr>\n",
       "      <th>342433</th>\n",
       "      <td>2022-09-12</td>\n",
       "      <td>43.970001</td>\n",
       "      <td>44.220001</td>\n",
       "      <td>43.430000</td>\n",
       "      <td>43.820000</td>\n",
       "      <td>43.820000</td>\n",
       "      <td>1016700</td>\n",
       "      <td>WPM.TO</td>\n",
       "    </tr>\n",
       "    <tr>\n",
       "      <th>342434</th>\n",
       "      <td>2022-09-13</td>\n",
       "      <td>42.840000</td>\n",
       "      <td>43.820000</td>\n",
       "      <td>42.560001</td>\n",
       "      <td>42.849998</td>\n",
       "      <td>42.849998</td>\n",
       "      <td>954900</td>\n",
       "      <td>WPM.TO</td>\n",
       "    </tr>\n",
       "    <tr>\n",
       "      <th>342435</th>\n",
       "      <td>2022-09-14</td>\n",
       "      <td>43.150002</td>\n",
       "      <td>43.689999</td>\n",
       "      <td>42.869999</td>\n",
       "      <td>43.029999</td>\n",
       "      <td>43.029999</td>\n",
       "      <td>732500</td>\n",
       "      <td>WPM.TO</td>\n",
       "    </tr>\n",
       "  </tbody>\n",
       "</table>\n",
       "</div>"
      ],
      "text/plain": [
       "             Date       Open       High        Low      Close  Adj Close  \\\n",
       "342431 2022-09-08  41.750000  42.669998  41.560001  42.430000  42.430000   \n",
       "342432 2022-09-09  42.900002  43.209999  42.450001  43.060001  43.060001   \n",
       "342433 2022-09-12  43.970001  44.220001  43.430000  43.820000  43.820000   \n",
       "342434 2022-09-13  42.840000  43.820000  42.560001  42.849998  42.849998   \n",
       "342435 2022-09-14  43.150002  43.689999  42.869999  43.029999  43.029999   \n",
       "\n",
       "         Volume  Symbol  \n",
       "342431   892900  WPM.TO  \n",
       "342432   957500  WPM.TO  \n",
       "342433  1016700  WPM.TO  \n",
       "342434   954900  WPM.TO  \n",
       "342435   732500  WPM.TO  "
      ]
     },
     "execution_count": 24,
     "metadata": {},
     "output_type": "execute_result"
    }
   ],
   "source": [
    "new_TSX60.tail()"
   ]
  },
  {
   "cell_type": "markdown",
   "metadata": {},
   "source": []
  },
  {
   "cell_type": "markdown",
   "metadata": {},
   "source": [
    "## 4. Download fundamental data from Yahoo! Finance's API"
   ]
  },
  {
   "cell_type": "code",
   "execution_count": 25,
   "metadata": {},
   "outputs": [],
   "source": [
    "#Function to download fundamental data\n",
    "def download_fundamental(tickers):\n",
    "    df_fundamental = pd.DataFrame()\n",
    "    for ticker in tickers:\n",
    "        var = yf.Ticker(ticker).info\n",
    "        frame = pd.DataFrame([var])\n",
    "        df_fundamental = df_fundamental.append(frame)\n",
    "    return df_fundamental"
   ]
  },
  {
   "cell_type": "markdown",
   "metadata": {},
   "source": [
    "#### Download TSX60 fundamental data"
   ]
  },
  {
   "cell_type": "code",
   "execution_count": 26,
   "metadata": {},
   "outputs": [
    {
     "name": "stderr",
     "output_type": "stream",
     "text": [
      "/var/folders/3j/412c0zs54q1g87_839pw94z80000gn/T/ipykernel_1320/3306613131.py:7: FutureWarning: The frame.append method is deprecated and will be removed from pandas in a future version. Use pandas.concat instead.\n",
      "  df_fundamental = df_fundamental.append(frame)\n",
      "/var/folders/3j/412c0zs54q1g87_839pw94z80000gn/T/ipykernel_1320/3306613131.py:7: FutureWarning: The frame.append method is deprecated and will be removed from pandas in a future version. Use pandas.concat instead.\n",
      "  df_fundamental = df_fundamental.append(frame)\n",
      "/var/folders/3j/412c0zs54q1g87_839pw94z80000gn/T/ipykernel_1320/3306613131.py:7: FutureWarning: The frame.append method is deprecated and will be removed from pandas in a future version. Use pandas.concat instead.\n",
      "  df_fundamental = df_fundamental.append(frame)\n",
      "/var/folders/3j/412c0zs54q1g87_839pw94z80000gn/T/ipykernel_1320/3306613131.py:7: FutureWarning: The frame.append method is deprecated and will be removed from pandas in a future version. Use pandas.concat instead.\n",
      "  df_fundamental = df_fundamental.append(frame)\n",
      "/var/folders/3j/412c0zs54q1g87_839pw94z80000gn/T/ipykernel_1320/3306613131.py:7: FutureWarning: The frame.append method is deprecated and will be removed from pandas in a future version. Use pandas.concat instead.\n",
      "  df_fundamental = df_fundamental.append(frame)\n",
      "/var/folders/3j/412c0zs54q1g87_839pw94z80000gn/T/ipykernel_1320/3306613131.py:7: FutureWarning: The frame.append method is deprecated and will be removed from pandas in a future version. Use pandas.concat instead.\n",
      "  df_fundamental = df_fundamental.append(frame)\n",
      "/var/folders/3j/412c0zs54q1g87_839pw94z80000gn/T/ipykernel_1320/3306613131.py:7: FutureWarning: The frame.append method is deprecated and will be removed from pandas in a future version. Use pandas.concat instead.\n",
      "  df_fundamental = df_fundamental.append(frame)\n",
      "/var/folders/3j/412c0zs54q1g87_839pw94z80000gn/T/ipykernel_1320/3306613131.py:7: FutureWarning: The frame.append method is deprecated and will be removed from pandas in a future version. Use pandas.concat instead.\n",
      "  df_fundamental = df_fundamental.append(frame)\n"
     ]
    }
   ],
   "source": [
    "\n",
    "TSXFundamental = download_fundamental(new_TSX60)"
   ]
  },
  {
   "cell_type": "code",
   "execution_count": 27,
   "metadata": {},
   "outputs": [
    {
     "data": {
      "text/plain": [
       "(8, 166)"
      ]
     },
     "execution_count": 27,
     "metadata": {},
     "output_type": "execute_result"
    }
   ],
   "source": [
    "# Looking at Fundamental dataset\n",
    "TSXFundamental.shape"
   ]
  },
  {
   "cell_type": "markdown",
   "metadata": {},
   "source": [
    "We have 60 rows and 159 columns"
   ]
  },
  {
   "cell_type": "code",
   "execution_count": 28,
   "metadata": {},
   "outputs": [
    {
     "data": {
      "text/html": [
       "<div>\n",
       "<style scoped>\n",
       "    .dataframe tbody tr th:only-of-type {\n",
       "        vertical-align: middle;\n",
       "    }\n",
       "\n",
       "    .dataframe tbody tr th {\n",
       "        vertical-align: top;\n",
       "    }\n",
       "\n",
       "    .dataframe thead th {\n",
       "        text-align: right;\n",
       "    }\n",
       "</style>\n",
       "<table border=\"1\" class=\"dataframe\">\n",
       "  <thead>\n",
       "    <tr style=\"text-align: right;\">\n",
       "      <th></th>\n",
       "      <th>symbol</th>\n",
       "      <th>quoteType</th>\n",
       "      <th>exchange</th>\n",
       "      <th>exchangeTimezoneName</th>\n",
       "      <th>exchangeTimezoneShortName</th>\n",
       "      <th>gmtOffSetMilliseconds</th>\n",
       "      <th>market</th>\n",
       "      <th>isEsgPopulated</th>\n",
       "      <th>quoteSourceName</th>\n",
       "      <th>regularMarketOpen</th>\n",
       "      <th>...</th>\n",
       "      <th>fiftyTwoWeekHigh</th>\n",
       "      <th>fiveYearAvgDividendYield</th>\n",
       "      <th>fiftyTwoWeekLow</th>\n",
       "      <th>bid</th>\n",
       "      <th>tradeable</th>\n",
       "      <th>dividendYield</th>\n",
       "      <th>bidSize</th>\n",
       "      <th>dayHigh</th>\n",
       "      <th>coinMarketCapLink</th>\n",
       "      <th>trailingPE</th>\n",
       "    </tr>\n",
       "  </thead>\n",
       "  <tbody>\n",
       "    <tr>\n",
       "      <th>0</th>\n",
       "      <td>DATE</td>\n",
       "      <td>MUTUALFUND</td>\n",
       "      <td>YHD</td>\n",
       "      <td>America/New_York</td>\n",
       "      <td>EDT</td>\n",
       "      <td>-14400000</td>\n",
       "      <td>us_market</td>\n",
       "      <td>False</td>\n",
       "      <td>Delayed Quote</td>\n",
       "      <td>NaN</td>\n",
       "      <td>...</td>\n",
       "      <td>NaN</td>\n",
       "      <td>NaN</td>\n",
       "      <td>NaN</td>\n",
       "      <td>NaN</td>\n",
       "      <td>NaN</td>\n",
       "      <td>NaN</td>\n",
       "      <td>NaN</td>\n",
       "      <td>NaN</td>\n",
       "      <td>NaN</td>\n",
       "      <td>NaN</td>\n",
       "    </tr>\n",
       "    <tr>\n",
       "      <th>0</th>\n",
       "      <td>OPEN</td>\n",
       "      <td>EQUITY</td>\n",
       "      <td>NMS</td>\n",
       "      <td>America/New_York</td>\n",
       "      <td>EDT</td>\n",
       "      <td>-14400000</td>\n",
       "      <td>us_market</td>\n",
       "      <td>False</td>\n",
       "      <td>NaN</td>\n",
       "      <td>4.22</td>\n",
       "      <td>...</td>\n",
       "      <td>25.325</td>\n",
       "      <td>NaN</td>\n",
       "      <td>4.035</td>\n",
       "      <td>4.31</td>\n",
       "      <td>False</td>\n",
       "      <td>NaN</td>\n",
       "      <td>3000.0</td>\n",
       "      <td>4.48</td>\n",
       "      <td>NaN</td>\n",
       "      <td>NaN</td>\n",
       "    </tr>\n",
       "    <tr>\n",
       "      <th>0</th>\n",
       "      <td>NaN</td>\n",
       "      <td>NaN</td>\n",
       "      <td>NaN</td>\n",
       "      <td>NaN</td>\n",
       "      <td>NaN</td>\n",
       "      <td>NaN</td>\n",
       "      <td>NaN</td>\n",
       "      <td>NaN</td>\n",
       "      <td>NaN</td>\n",
       "      <td>NaN</td>\n",
       "      <td>...</td>\n",
       "      <td>NaN</td>\n",
       "      <td>NaN</td>\n",
       "      <td>NaN</td>\n",
       "      <td>NaN</td>\n",
       "      <td>NaN</td>\n",
       "      <td>NaN</td>\n",
       "      <td>NaN</td>\n",
       "      <td>NaN</td>\n",
       "      <td>NaN</td>\n",
       "      <td>NaN</td>\n",
       "    </tr>\n",
       "    <tr>\n",
       "      <th>0</th>\n",
       "      <td>LOW</td>\n",
       "      <td>EQUITY</td>\n",
       "      <td>NYQ</td>\n",
       "      <td>America/New_York</td>\n",
       "      <td>EDT</td>\n",
       "      <td>-14400000</td>\n",
       "      <td>us_market</td>\n",
       "      <td>False</td>\n",
       "      <td>NaN</td>\n",
       "      <td>193.32</td>\n",
       "      <td>...</td>\n",
       "      <td>263.310</td>\n",
       "      <td>1.63</td>\n",
       "      <td>170.120</td>\n",
       "      <td>193.27</td>\n",
       "      <td>False</td>\n",
       "      <td>0.0217</td>\n",
       "      <td>800.0</td>\n",
       "      <td>194.49</td>\n",
       "      <td>NaN</td>\n",
       "      <td>15.172685</td>\n",
       "    </tr>\n",
       "    <tr>\n",
       "      <th>0</th>\n",
       "      <td>NaN</td>\n",
       "      <td>NaN</td>\n",
       "      <td>NaN</td>\n",
       "      <td>NaN</td>\n",
       "      <td>NaN</td>\n",
       "      <td>NaN</td>\n",
       "      <td>NaN</td>\n",
       "      <td>NaN</td>\n",
       "      <td>NaN</td>\n",
       "      <td>NaN</td>\n",
       "      <td>...</td>\n",
       "      <td>NaN</td>\n",
       "      <td>NaN</td>\n",
       "      <td>NaN</td>\n",
       "      <td>NaN</td>\n",
       "      <td>NaN</td>\n",
       "      <td>NaN</td>\n",
       "      <td>NaN</td>\n",
       "      <td>NaN</td>\n",
       "      <td>NaN</td>\n",
       "      <td>NaN</td>\n",
       "    </tr>\n",
       "  </tbody>\n",
       "</table>\n",
       "<p>5 rows × 166 columns</p>\n",
       "</div>"
      ],
      "text/plain": [
       "  symbol   quoteType exchange exchangeTimezoneName exchangeTimezoneShortName  \\\n",
       "0   DATE  MUTUALFUND      YHD     America/New_York                       EDT   \n",
       "0   OPEN      EQUITY      NMS     America/New_York                       EDT   \n",
       "0    NaN         NaN      NaN                  NaN                       NaN   \n",
       "0    LOW      EQUITY      NYQ     America/New_York                       EDT   \n",
       "0    NaN         NaN      NaN                  NaN                       NaN   \n",
       "\n",
       "  gmtOffSetMilliseconds     market isEsgPopulated quoteSourceName  \\\n",
       "0             -14400000  us_market          False   Delayed Quote   \n",
       "0             -14400000  us_market          False             NaN   \n",
       "0                   NaN        NaN            NaN             NaN   \n",
       "0             -14400000  us_market          False             NaN   \n",
       "0                   NaN        NaN            NaN             NaN   \n",
       "\n",
       "   regularMarketOpen  ... fiftyTwoWeekHigh  fiveYearAvgDividendYield  \\\n",
       "0                NaN  ...              NaN                       NaN   \n",
       "0               4.22  ...           25.325                       NaN   \n",
       "0                NaN  ...              NaN                       NaN   \n",
       "0             193.32  ...          263.310                      1.63   \n",
       "0                NaN  ...              NaN                       NaN   \n",
       "\n",
       "  fiftyTwoWeekLow     bid tradeable dividendYield bidSize dayHigh  \\\n",
       "0             NaN     NaN       NaN           NaN     NaN     NaN   \n",
       "0           4.035    4.31     False           NaN  3000.0    4.48   \n",
       "0             NaN     NaN       NaN           NaN     NaN     NaN   \n",
       "0         170.120  193.27     False        0.0217   800.0  194.49   \n",
       "0             NaN     NaN       NaN           NaN     NaN     NaN   \n",
       "\n",
       "   coinMarketCapLink  trailingPE  \n",
       "0                NaN         NaN  \n",
       "0                NaN         NaN  \n",
       "0                NaN         NaN  \n",
       "0                NaN   15.172685  \n",
       "0                NaN         NaN  \n",
       "\n",
       "[5 rows x 166 columns]"
      ]
     },
     "execution_count": 28,
     "metadata": {},
     "output_type": "execute_result"
    }
   ],
   "source": [
    "TSXFundamental.head()"
   ]
  },
  {
   "cell_type": "code",
   "execution_count": 29,
   "metadata": {},
   "outputs": [
    {
     "data": {
      "text/html": [
       "<div>\n",
       "<style scoped>\n",
       "    .dataframe tbody tr th:only-of-type {\n",
       "        vertical-align: middle;\n",
       "    }\n",
       "\n",
       "    .dataframe tbody tr th {\n",
       "        vertical-align: top;\n",
       "    }\n",
       "\n",
       "    .dataframe thead th {\n",
       "        text-align: right;\n",
       "    }\n",
       "</style>\n",
       "<table border=\"1\" class=\"dataframe\">\n",
       "  <thead>\n",
       "    <tr style=\"text-align: right;\">\n",
       "      <th></th>\n",
       "      <th>symbol</th>\n",
       "      <th>quoteType</th>\n",
       "      <th>exchange</th>\n",
       "      <th>exchangeTimezoneName</th>\n",
       "      <th>exchangeTimezoneShortName</th>\n",
       "      <th>gmtOffSetMilliseconds</th>\n",
       "      <th>market</th>\n",
       "      <th>isEsgPopulated</th>\n",
       "      <th>quoteSourceName</th>\n",
       "      <th>regularMarketOpen</th>\n",
       "      <th>...</th>\n",
       "      <th>fiftyTwoWeekHigh</th>\n",
       "      <th>fiveYearAvgDividendYield</th>\n",
       "      <th>fiftyTwoWeekLow</th>\n",
       "      <th>bid</th>\n",
       "      <th>tradeable</th>\n",
       "      <th>dividendYield</th>\n",
       "      <th>bidSize</th>\n",
       "      <th>dayHigh</th>\n",
       "      <th>coinMarketCapLink</th>\n",
       "      <th>trailingPE</th>\n",
       "    </tr>\n",
       "  </thead>\n",
       "  <tbody>\n",
       "    <tr>\n",
       "      <th>0</th>\n",
       "      <td>LOW</td>\n",
       "      <td>EQUITY</td>\n",
       "      <td>NYQ</td>\n",
       "      <td>America/New_York</td>\n",
       "      <td>EDT</td>\n",
       "      <td>-14400000</td>\n",
       "      <td>us_market</td>\n",
       "      <td>False</td>\n",
       "      <td>NaN</td>\n",
       "      <td>193.32</td>\n",
       "      <td>...</td>\n",
       "      <td>263.31</td>\n",
       "      <td>1.63</td>\n",
       "      <td>170.12</td>\n",
       "      <td>193.27</td>\n",
       "      <td>False</td>\n",
       "      <td>0.0217</td>\n",
       "      <td>800.0</td>\n",
       "      <td>194.49</td>\n",
       "      <td>NaN</td>\n",
       "      <td>15.172685</td>\n",
       "    </tr>\n",
       "    <tr>\n",
       "      <th>0</th>\n",
       "      <td>NaN</td>\n",
       "      <td>NaN</td>\n",
       "      <td>NaN</td>\n",
       "      <td>NaN</td>\n",
       "      <td>NaN</td>\n",
       "      <td>NaN</td>\n",
       "      <td>NaN</td>\n",
       "      <td>NaN</td>\n",
       "      <td>NaN</td>\n",
       "      <td>NaN</td>\n",
       "      <td>...</td>\n",
       "      <td>NaN</td>\n",
       "      <td>NaN</td>\n",
       "      <td>NaN</td>\n",
       "      <td>NaN</td>\n",
       "      <td>NaN</td>\n",
       "      <td>NaN</td>\n",
       "      <td>NaN</td>\n",
       "      <td>NaN</td>\n",
       "      <td>NaN</td>\n",
       "      <td>NaN</td>\n",
       "    </tr>\n",
       "    <tr>\n",
       "      <th>0</th>\n",
       "      <td>NaN</td>\n",
       "      <td>NaN</td>\n",
       "      <td>NaN</td>\n",
       "      <td>NaN</td>\n",
       "      <td>NaN</td>\n",
       "      <td>NaN</td>\n",
       "      <td>NaN</td>\n",
       "      <td>NaN</td>\n",
       "      <td>NaN</td>\n",
       "      <td>NaN</td>\n",
       "      <td>...</td>\n",
       "      <td>NaN</td>\n",
       "      <td>NaN</td>\n",
       "      <td>NaN</td>\n",
       "      <td>NaN</td>\n",
       "      <td>NaN</td>\n",
       "      <td>NaN</td>\n",
       "      <td>NaN</td>\n",
       "      <td>NaN</td>\n",
       "      <td>NaN</td>\n",
       "      <td>NaN</td>\n",
       "    </tr>\n",
       "    <tr>\n",
       "      <th>0</th>\n",
       "      <td>NaN</td>\n",
       "      <td>NaN</td>\n",
       "      <td>NaN</td>\n",
       "      <td>NaN</td>\n",
       "      <td>NaN</td>\n",
       "      <td>NaN</td>\n",
       "      <td>NaN</td>\n",
       "      <td>NaN</td>\n",
       "      <td>NaN</td>\n",
       "      <td>NaN</td>\n",
       "      <td>...</td>\n",
       "      <td>NaN</td>\n",
       "      <td>NaN</td>\n",
       "      <td>NaN</td>\n",
       "      <td>NaN</td>\n",
       "      <td>NaN</td>\n",
       "      <td>NaN</td>\n",
       "      <td>NaN</td>\n",
       "      <td>NaN</td>\n",
       "      <td>NaN</td>\n",
       "      <td>NaN</td>\n",
       "    </tr>\n",
       "    <tr>\n",
       "      <th>0</th>\n",
       "      <td>NaN</td>\n",
       "      <td>NaN</td>\n",
       "      <td>NaN</td>\n",
       "      <td>NaN</td>\n",
       "      <td>NaN</td>\n",
       "      <td>NaN</td>\n",
       "      <td>NaN</td>\n",
       "      <td>NaN</td>\n",
       "      <td>NaN</td>\n",
       "      <td>NaN</td>\n",
       "      <td>...</td>\n",
       "      <td>NaN</td>\n",
       "      <td>NaN</td>\n",
       "      <td>NaN</td>\n",
       "      <td>NaN</td>\n",
       "      <td>NaN</td>\n",
       "      <td>NaN</td>\n",
       "      <td>NaN</td>\n",
       "      <td>NaN</td>\n",
       "      <td>NaN</td>\n",
       "      <td>NaN</td>\n",
       "    </tr>\n",
       "  </tbody>\n",
       "</table>\n",
       "<p>5 rows × 166 columns</p>\n",
       "</div>"
      ],
      "text/plain": [
       "  symbol quoteType exchange exchangeTimezoneName exchangeTimezoneShortName  \\\n",
       "0    LOW    EQUITY      NYQ     America/New_York                       EDT   \n",
       "0    NaN       NaN      NaN                  NaN                       NaN   \n",
       "0    NaN       NaN      NaN                  NaN                       NaN   \n",
       "0    NaN       NaN      NaN                  NaN                       NaN   \n",
       "0    NaN       NaN      NaN                  NaN                       NaN   \n",
       "\n",
       "  gmtOffSetMilliseconds     market isEsgPopulated quoteSourceName  \\\n",
       "0             -14400000  us_market          False             NaN   \n",
       "0                   NaN        NaN            NaN             NaN   \n",
       "0                   NaN        NaN            NaN             NaN   \n",
       "0                   NaN        NaN            NaN             NaN   \n",
       "0                   NaN        NaN            NaN             NaN   \n",
       "\n",
       "   regularMarketOpen  ... fiftyTwoWeekHigh  fiveYearAvgDividendYield  \\\n",
       "0             193.32  ...           263.31                      1.63   \n",
       "0                NaN  ...              NaN                       NaN   \n",
       "0                NaN  ...              NaN                       NaN   \n",
       "0                NaN  ...              NaN                       NaN   \n",
       "0                NaN  ...              NaN                       NaN   \n",
       "\n",
       "  fiftyTwoWeekLow     bid tradeable dividendYield bidSize dayHigh  \\\n",
       "0          170.12  193.27     False        0.0217   800.0  194.49   \n",
       "0             NaN     NaN       NaN           NaN     NaN     NaN   \n",
       "0             NaN     NaN       NaN           NaN     NaN     NaN   \n",
       "0             NaN     NaN       NaN           NaN     NaN     NaN   \n",
       "0             NaN     NaN       NaN           NaN     NaN     NaN   \n",
       "\n",
       "   coinMarketCapLink  trailingPE  \n",
       "0                NaN   15.172685  \n",
       "0                NaN         NaN  \n",
       "0                NaN         NaN  \n",
       "0                NaN         NaN  \n",
       "0                NaN         NaN  \n",
       "\n",
       "[5 rows x 166 columns]"
      ]
     },
     "execution_count": 29,
     "metadata": {},
     "output_type": "execute_result"
    }
   ],
   "source": [
    "TSXFundamental.tail()"
   ]
  },
  {
   "cell_type": "code",
   "execution_count": 30,
   "metadata": {},
   "outputs": [
    {
     "data": {
      "text/plain": [
       "symbol                       5\n",
       "quoteType                    5\n",
       "exchange                     5\n",
       "exchangeTimezoneName         5\n",
       "exchangeTimezoneShortName    5\n",
       "                            ..\n",
       "dividendYield                7\n",
       "bidSize                      6\n",
       "dayHigh                      6\n",
       "coinMarketCapLink            8\n",
       "trailingPE                   7\n",
       "Length: 166, dtype: int64"
      ]
     },
     "execution_count": 30,
     "metadata": {},
     "output_type": "execute_result"
    }
   ],
   "source": [
    "TSXFundamental.isnull().sum()"
   ]
  },
  {
   "cell_type": "markdown",
   "metadata": {},
   "source": [
    "We have some columns that do not have values. We will drop all columns that have null values"
   ]
  },
  {
   "cell_type": "code",
   "execution_count": 31,
   "metadata": {},
   "outputs": [],
   "source": [
    "# Select columns that we will use for future data analysis and visualization\n",
    "\n",
    "select_columns = ['symbol', 'shortName','longName', 'sector', 'longBusinessSummary', 'city', 'state', 'country', 'website','industry','ebitdaMargins',\n",
    "       'profitMargins', 'grossMargins', 'operatingCashflow',\n",
    "       'revenueGrowth', 'operatingMargins', 'ebitda', 'targetLowPrice',\n",
    "       'recommendationKey', 'grossProfits', 'freeCashflow',\n",
    "       'targetMedianPrice', 'currentPrice', 'earningsGrowth',\n",
    "       'currentRatio', 'returnOnAssets', 'numberOfAnalystOpinions',\n",
    "       'targetMeanPrice', 'debtToEquity', 'returnOnEquity',\n",
    "       'targetHighPrice', 'totalCash', 'totalDebt', 'totalRevenue',\n",
    "       'totalCashPerShare', 'financialCurrency', 'revenuePerShare',\n",
    "       'market',\n",
    "       ]"
   ]
  },
  {
   "cell_type": "code",
   "execution_count": 32,
   "metadata": {},
   "outputs": [],
   "source": [
    "subTSX_Fundamental = TSXFundamental[select_columns]"
   ]
  },
  {
   "cell_type": "code",
   "execution_count": 33,
   "metadata": {},
   "outputs": [
    {
     "data": {
      "text/html": [
       "<div>\n",
       "<style scoped>\n",
       "    .dataframe tbody tr th:only-of-type {\n",
       "        vertical-align: middle;\n",
       "    }\n",
       "\n",
       "    .dataframe tbody tr th {\n",
       "        vertical-align: top;\n",
       "    }\n",
       "\n",
       "    .dataframe thead th {\n",
       "        text-align: right;\n",
       "    }\n",
       "</style>\n",
       "<table border=\"1\" class=\"dataframe\">\n",
       "  <thead>\n",
       "    <tr style=\"text-align: right;\">\n",
       "      <th></th>\n",
       "      <th>symbol</th>\n",
       "      <th>shortName</th>\n",
       "      <th>longName</th>\n",
       "      <th>sector</th>\n",
       "      <th>longBusinessSummary</th>\n",
       "      <th>city</th>\n",
       "      <th>state</th>\n",
       "      <th>country</th>\n",
       "      <th>website</th>\n",
       "      <th>industry</th>\n",
       "      <th>...</th>\n",
       "      <th>debtToEquity</th>\n",
       "      <th>returnOnEquity</th>\n",
       "      <th>targetHighPrice</th>\n",
       "      <th>totalCash</th>\n",
       "      <th>totalDebt</th>\n",
       "      <th>totalRevenue</th>\n",
       "      <th>totalCashPerShare</th>\n",
       "      <th>financialCurrency</th>\n",
       "      <th>revenuePerShare</th>\n",
       "      <th>market</th>\n",
       "    </tr>\n",
       "  </thead>\n",
       "  <tbody>\n",
       "    <tr>\n",
       "      <th>0</th>\n",
       "      <td>DATE</td>\n",
       "      <td>None</td>\n",
       "      <td>None</td>\n",
       "      <td>NaN</td>\n",
       "      <td>NaN</td>\n",
       "      <td>NaN</td>\n",
       "      <td>NaN</td>\n",
       "      <td>NaN</td>\n",
       "      <td>NaN</td>\n",
       "      <td>NaN</td>\n",
       "      <td>...</td>\n",
       "      <td>NaN</td>\n",
       "      <td>NaN</td>\n",
       "      <td>NaN</td>\n",
       "      <td>NaN</td>\n",
       "      <td>NaN</td>\n",
       "      <td>NaN</td>\n",
       "      <td>NaN</td>\n",
       "      <td>NaN</td>\n",
       "      <td>NaN</td>\n",
       "      <td>us_market</td>\n",
       "    </tr>\n",
       "    <tr>\n",
       "      <th>0</th>\n",
       "      <td>OPEN</td>\n",
       "      <td>Opendoor Technologies Inc</td>\n",
       "      <td>Opendoor Technologies Inc.</td>\n",
       "      <td>Real Estate</td>\n",
       "      <td>Opendoor Technologies Inc. operates a digital ...</td>\n",
       "      <td>Tempe</td>\n",
       "      <td>AZ</td>\n",
       "      <td>United States</td>\n",
       "      <td>https://www.opendoor.com</td>\n",
       "      <td>Real Estate Services</td>\n",
       "      <td>...</td>\n",
       "      <td>320.671</td>\n",
       "      <td>-0.11479</td>\n",
       "      <td>19.0</td>\n",
       "      <td>2.472000e+09</td>\n",
       "      <td>7.555000e+09</td>\n",
       "      <td>1.543700e+10</td>\n",
       "      <td>3.931</td>\n",
       "      <td>USD</td>\n",
       "      <td>25.095</td>\n",
       "      <td>us_market</td>\n",
       "    </tr>\n",
       "    <tr>\n",
       "      <th>0</th>\n",
       "      <td>NaN</td>\n",
       "      <td>NaN</td>\n",
       "      <td>NaN</td>\n",
       "      <td>NaN</td>\n",
       "      <td>NaN</td>\n",
       "      <td>NaN</td>\n",
       "      <td>NaN</td>\n",
       "      <td>NaN</td>\n",
       "      <td>NaN</td>\n",
       "      <td>NaN</td>\n",
       "      <td>...</td>\n",
       "      <td>NaN</td>\n",
       "      <td>NaN</td>\n",
       "      <td>NaN</td>\n",
       "      <td>NaN</td>\n",
       "      <td>NaN</td>\n",
       "      <td>NaN</td>\n",
       "      <td>NaN</td>\n",
       "      <td>NaN</td>\n",
       "      <td>NaN</td>\n",
       "      <td>NaN</td>\n",
       "    </tr>\n",
       "    <tr>\n",
       "      <th>0</th>\n",
       "      <td>LOW</td>\n",
       "      <td>Lowe's Companies, Inc.</td>\n",
       "      <td>Lowe's Companies, Inc.</td>\n",
       "      <td>Consumer Cyclical</td>\n",
       "      <td>Lowe's Companies, Inc., together with its subs...</td>\n",
       "      <td>Mooresville</td>\n",
       "      <td>NC</td>\n",
       "      <td>United States</td>\n",
       "      <td>https://www.lowes.com</td>\n",
       "      <td>Home Improvement Retail</td>\n",
       "      <td>...</td>\n",
       "      <td>NaN</td>\n",
       "      <td>NaN</td>\n",
       "      <td>300.0</td>\n",
       "      <td>2.148000e+09</td>\n",
       "      <td>3.366100e+10</td>\n",
       "      <td>9.539200e+10</td>\n",
       "      <td>3.461</td>\n",
       "      <td>USD</td>\n",
       "      <td>143.447</td>\n",
       "      <td>us_market</td>\n",
       "    </tr>\n",
       "    <tr>\n",
       "      <th>0</th>\n",
       "      <td>NaN</td>\n",
       "      <td>NaN</td>\n",
       "      <td>NaN</td>\n",
       "      <td>NaN</td>\n",
       "      <td>NaN</td>\n",
       "      <td>NaN</td>\n",
       "      <td>NaN</td>\n",
       "      <td>NaN</td>\n",
       "      <td>NaN</td>\n",
       "      <td>NaN</td>\n",
       "      <td>...</td>\n",
       "      <td>NaN</td>\n",
       "      <td>NaN</td>\n",
       "      <td>NaN</td>\n",
       "      <td>NaN</td>\n",
       "      <td>NaN</td>\n",
       "      <td>NaN</td>\n",
       "      <td>NaN</td>\n",
       "      <td>NaN</td>\n",
       "      <td>NaN</td>\n",
       "      <td>NaN</td>\n",
       "    </tr>\n",
       "  </tbody>\n",
       "</table>\n",
       "<p>5 rows × 38 columns</p>\n",
       "</div>"
      ],
      "text/plain": [
       "  symbol                  shortName                    longName  \\\n",
       "0   DATE                       None                        None   \n",
       "0   OPEN  Opendoor Technologies Inc  Opendoor Technologies Inc.   \n",
       "0    NaN                        NaN                         NaN   \n",
       "0    LOW     Lowe's Companies, Inc.      Lowe's Companies, Inc.   \n",
       "0    NaN                        NaN                         NaN   \n",
       "\n",
       "              sector                                longBusinessSummary  \\\n",
       "0                NaN                                                NaN   \n",
       "0        Real Estate  Opendoor Technologies Inc. operates a digital ...   \n",
       "0                NaN                                                NaN   \n",
       "0  Consumer Cyclical  Lowe's Companies, Inc., together with its subs...   \n",
       "0                NaN                                                NaN   \n",
       "\n",
       "          city state        country                   website  \\\n",
       "0          NaN   NaN            NaN                       NaN   \n",
       "0        Tempe    AZ  United States  https://www.opendoor.com   \n",
       "0          NaN   NaN            NaN                       NaN   \n",
       "0  Mooresville    NC  United States     https://www.lowes.com   \n",
       "0          NaN   NaN            NaN                       NaN   \n",
       "\n",
       "                  industry  ...  debtToEquity  returnOnEquity  \\\n",
       "0                      NaN  ...           NaN             NaN   \n",
       "0     Real Estate Services  ...       320.671        -0.11479   \n",
       "0                      NaN  ...           NaN             NaN   \n",
       "0  Home Improvement Retail  ...           NaN             NaN   \n",
       "0                      NaN  ...           NaN             NaN   \n",
       "\n",
       "   targetHighPrice     totalCash     totalDebt  totalRevenue  \\\n",
       "0              NaN           NaN           NaN           NaN   \n",
       "0             19.0  2.472000e+09  7.555000e+09  1.543700e+10   \n",
       "0              NaN           NaN           NaN           NaN   \n",
       "0            300.0  2.148000e+09  3.366100e+10  9.539200e+10   \n",
       "0              NaN           NaN           NaN           NaN   \n",
       "\n",
       "   totalCashPerShare  financialCurrency revenuePerShare     market  \n",
       "0                NaN                NaN             NaN  us_market  \n",
       "0              3.931                USD          25.095  us_market  \n",
       "0                NaN                NaN             NaN        NaN  \n",
       "0              3.461                USD         143.447  us_market  \n",
       "0                NaN                NaN             NaN        NaN  \n",
       "\n",
       "[5 rows x 38 columns]"
      ]
     },
     "execution_count": 33,
     "metadata": {},
     "output_type": "execute_result"
    }
   ],
   "source": [
    "subTSX_Fundamental.head()"
   ]
  },
  {
   "cell_type": "markdown",
   "metadata": {},
   "source": [
    "#### Download Dow Jones's Fundamental Data"
   ]
  },
  {
   "cell_type": "code",
   "execution_count": 34,
   "metadata": {},
   "outputs": [
    {
     "name": "stderr",
     "output_type": "stream",
     "text": [
      "/var/folders/3j/412c0zs54q1g87_839pw94z80000gn/T/ipykernel_1320/3306613131.py:7: FutureWarning: The frame.append method is deprecated and will be removed from pandas in a future version. Use pandas.concat instead.\n",
      "  df_fundamental = df_fundamental.append(frame)\n",
      "/var/folders/3j/412c0zs54q1g87_839pw94z80000gn/T/ipykernel_1320/3306613131.py:7: FutureWarning: The frame.append method is deprecated and will be removed from pandas in a future version. Use pandas.concat instead.\n",
      "  df_fundamental = df_fundamental.append(frame)\n",
      "/var/folders/3j/412c0zs54q1g87_839pw94z80000gn/T/ipykernel_1320/3306613131.py:7: FutureWarning: The frame.append method is deprecated and will be removed from pandas in a future version. Use pandas.concat instead.\n",
      "  df_fundamental = df_fundamental.append(frame)\n",
      "/var/folders/3j/412c0zs54q1g87_839pw94z80000gn/T/ipykernel_1320/3306613131.py:7: FutureWarning: The frame.append method is deprecated and will be removed from pandas in a future version. Use pandas.concat instead.\n",
      "  df_fundamental = df_fundamental.append(frame)\n",
      "/var/folders/3j/412c0zs54q1g87_839pw94z80000gn/T/ipykernel_1320/3306613131.py:7: FutureWarning: The frame.append method is deprecated and will be removed from pandas in a future version. Use pandas.concat instead.\n",
      "  df_fundamental = df_fundamental.append(frame)\n",
      "/var/folders/3j/412c0zs54q1g87_839pw94z80000gn/T/ipykernel_1320/3306613131.py:7: FutureWarning: The frame.append method is deprecated and will be removed from pandas in a future version. Use pandas.concat instead.\n",
      "  df_fundamental = df_fundamental.append(frame)\n",
      "/var/folders/3j/412c0zs54q1g87_839pw94z80000gn/T/ipykernel_1320/3306613131.py:7: FutureWarning: The frame.append method is deprecated and will be removed from pandas in a future version. Use pandas.concat instead.\n",
      "  df_fundamental = df_fundamental.append(frame)\n",
      "/var/folders/3j/412c0zs54q1g87_839pw94z80000gn/T/ipykernel_1320/3306613131.py:7: FutureWarning: The frame.append method is deprecated and will be removed from pandas in a future version. Use pandas.concat instead.\n",
      "  df_fundamental = df_fundamental.append(frame)\n",
      "/var/folders/3j/412c0zs54q1g87_839pw94z80000gn/T/ipykernel_1320/3306613131.py:7: FutureWarning: The frame.append method is deprecated and will be removed from pandas in a future version. Use pandas.concat instead.\n",
      "  df_fundamental = df_fundamental.append(frame)\n",
      "/var/folders/3j/412c0zs54q1g87_839pw94z80000gn/T/ipykernel_1320/3306613131.py:7: FutureWarning: The frame.append method is deprecated and will be removed from pandas in a future version. Use pandas.concat instead.\n",
      "  df_fundamental = df_fundamental.append(frame)\n",
      "/var/folders/3j/412c0zs54q1g87_839pw94z80000gn/T/ipykernel_1320/3306613131.py:7: FutureWarning: The frame.append method is deprecated and will be removed from pandas in a future version. Use pandas.concat instead.\n",
      "  df_fundamental = df_fundamental.append(frame)\n",
      "/var/folders/3j/412c0zs54q1g87_839pw94z80000gn/T/ipykernel_1320/3306613131.py:7: FutureWarning: The frame.append method is deprecated and will be removed from pandas in a future version. Use pandas.concat instead.\n",
      "  df_fundamental = df_fundamental.append(frame)\n",
      "/var/folders/3j/412c0zs54q1g87_839pw94z80000gn/T/ipykernel_1320/3306613131.py:7: FutureWarning: The frame.append method is deprecated and will be removed from pandas in a future version. Use pandas.concat instead.\n",
      "  df_fundamental = df_fundamental.append(frame)\n",
      "/var/folders/3j/412c0zs54q1g87_839pw94z80000gn/T/ipykernel_1320/3306613131.py:7: FutureWarning: The frame.append method is deprecated and will be removed from pandas in a future version. Use pandas.concat instead.\n",
      "  df_fundamental = df_fundamental.append(frame)\n",
      "/var/folders/3j/412c0zs54q1g87_839pw94z80000gn/T/ipykernel_1320/3306613131.py:7: FutureWarning: The frame.append method is deprecated and will be removed from pandas in a future version. Use pandas.concat instead.\n",
      "  df_fundamental = df_fundamental.append(frame)\n",
      "/var/folders/3j/412c0zs54q1g87_839pw94z80000gn/T/ipykernel_1320/3306613131.py:7: FutureWarning: The frame.append method is deprecated and will be removed from pandas in a future version. Use pandas.concat instead.\n",
      "  df_fundamental = df_fundamental.append(frame)\n",
      "/var/folders/3j/412c0zs54q1g87_839pw94z80000gn/T/ipykernel_1320/3306613131.py:7: FutureWarning: The frame.append method is deprecated and will be removed from pandas in a future version. Use pandas.concat instead.\n",
      "  df_fundamental = df_fundamental.append(frame)\n",
      "/var/folders/3j/412c0zs54q1g87_839pw94z80000gn/T/ipykernel_1320/3306613131.py:7: FutureWarning: The frame.append method is deprecated and will be removed from pandas in a future version. Use pandas.concat instead.\n",
      "  df_fundamental = df_fundamental.append(frame)\n",
      "/var/folders/3j/412c0zs54q1g87_839pw94z80000gn/T/ipykernel_1320/3306613131.py:7: FutureWarning: The frame.append method is deprecated and will be removed from pandas in a future version. Use pandas.concat instead.\n",
      "  df_fundamental = df_fundamental.append(frame)\n",
      "/var/folders/3j/412c0zs54q1g87_839pw94z80000gn/T/ipykernel_1320/3306613131.py:7: FutureWarning: The frame.append method is deprecated and will be removed from pandas in a future version. Use pandas.concat instead.\n",
      "  df_fundamental = df_fundamental.append(frame)\n",
      "/var/folders/3j/412c0zs54q1g87_839pw94z80000gn/T/ipykernel_1320/3306613131.py:7: FutureWarning: The frame.append method is deprecated and will be removed from pandas in a future version. Use pandas.concat instead.\n",
      "  df_fundamental = df_fundamental.append(frame)\n",
      "/var/folders/3j/412c0zs54q1g87_839pw94z80000gn/T/ipykernel_1320/3306613131.py:7: FutureWarning: The frame.append method is deprecated and will be removed from pandas in a future version. Use pandas.concat instead.\n",
      "  df_fundamental = df_fundamental.append(frame)\n",
      "/var/folders/3j/412c0zs54q1g87_839pw94z80000gn/T/ipykernel_1320/3306613131.py:7: FutureWarning: The frame.append method is deprecated and will be removed from pandas in a future version. Use pandas.concat instead.\n",
      "  df_fundamental = df_fundamental.append(frame)\n",
      "/var/folders/3j/412c0zs54q1g87_839pw94z80000gn/T/ipykernel_1320/3306613131.py:7: FutureWarning: The frame.append method is deprecated and will be removed from pandas in a future version. Use pandas.concat instead.\n",
      "  df_fundamental = df_fundamental.append(frame)\n",
      "/var/folders/3j/412c0zs54q1g87_839pw94z80000gn/T/ipykernel_1320/3306613131.py:7: FutureWarning: The frame.append method is deprecated and will be removed from pandas in a future version. Use pandas.concat instead.\n",
      "  df_fundamental = df_fundamental.append(frame)\n",
      "/var/folders/3j/412c0zs54q1g87_839pw94z80000gn/T/ipykernel_1320/3306613131.py:7: FutureWarning: The frame.append method is deprecated and will be removed from pandas in a future version. Use pandas.concat instead.\n",
      "  df_fundamental = df_fundamental.append(frame)\n",
      "/var/folders/3j/412c0zs54q1g87_839pw94z80000gn/T/ipykernel_1320/3306613131.py:7: FutureWarning: The frame.append method is deprecated and will be removed from pandas in a future version. Use pandas.concat instead.\n",
      "  df_fundamental = df_fundamental.append(frame)\n",
      "/var/folders/3j/412c0zs54q1g87_839pw94z80000gn/T/ipykernel_1320/3306613131.py:7: FutureWarning: The frame.append method is deprecated and will be removed from pandas in a future version. Use pandas.concat instead.\n",
      "  df_fundamental = df_fundamental.append(frame)\n",
      "/var/folders/3j/412c0zs54q1g87_839pw94z80000gn/T/ipykernel_1320/3306613131.py:7: FutureWarning: The frame.append method is deprecated and will be removed from pandas in a future version. Use pandas.concat instead.\n",
      "  df_fundamental = df_fundamental.append(frame)\n",
      "/var/folders/3j/412c0zs54q1g87_839pw94z80000gn/T/ipykernel_1320/3306613131.py:7: FutureWarning: The frame.append method is deprecated and will be removed from pandas in a future version. Use pandas.concat instead.\n",
      "  df_fundamental = df_fundamental.append(frame)\n"
     ]
    }
   ],
   "source": [
    "DOWFundamental = download_fundamental(tickerDOW)"
   ]
  },
  {
   "cell_type": "code",
   "execution_count": 35,
   "metadata": {},
   "outputs": [],
   "source": [
    "subDOWFundamental = DOWFundamental[select_columns]"
   ]
  },
  {
   "cell_type": "markdown",
   "metadata": {},
   "source": []
  },
  {
   "cell_type": "markdown",
   "metadata": {},
   "source": [
    "# 4. Download market historical prices"
   ]
  },
  {
   "cell_type": "code",
   "execution_count": 36,
   "metadata": {},
   "outputs": [],
   "source": [
    "index_list = ['TX60.TS', '^DJI', '^GSPC','^IXIC']"
   ]
  },
  {
   "cell_type": "code",
   "execution_count": 37,
   "metadata": {},
   "outputs": [
    {
     "name": "stdout",
     "output_type": "stream",
     "text": [
      "[*********************100%***********************]  1 of 1 completed\n",
      "\n",
      "1 Failed download:\n",
      "- TX60.TS: No data found for this date range, symbol may be delisted\n",
      "[*********************100%***********************]  1 of 1 completed\n",
      "[*********************100%***********************]  1 of 1 completed\n",
      "[*********************100%***********************]  1 of 1 completed\n"
     ]
    }
   ],
   "source": [
    "index_price_data = getData(index_list)"
   ]
  },
  {
   "cell_type": "code",
   "execution_count": 38,
   "metadata": {},
   "outputs": [],
   "source": [
    "merge_index_price_data = merge_data(index_price_data, index_list)"
   ]
  },
  {
   "cell_type": "code",
   "execution_count": 39,
   "metadata": {},
   "outputs": [
    {
     "data": {
      "text/html": [
       "<div>\n",
       "<style scoped>\n",
       "    .dataframe tbody tr th:only-of-type {\n",
       "        vertical-align: middle;\n",
       "    }\n",
       "\n",
       "    .dataframe tbody tr th {\n",
       "        vertical-align: top;\n",
       "    }\n",
       "\n",
       "    .dataframe thead th {\n",
       "        text-align: right;\n",
       "    }\n",
       "</style>\n",
       "<table border=\"1\" class=\"dataframe\">\n",
       "  <thead>\n",
       "    <tr style=\"text-align: right;\">\n",
       "      <th></th>\n",
       "      <th>Date</th>\n",
       "      <th>Open</th>\n",
       "      <th>High</th>\n",
       "      <th>Low</th>\n",
       "      <th>Close</th>\n",
       "      <th>Adj Close</th>\n",
       "      <th>Volume</th>\n",
       "      <th>Symbol</th>\n",
       "    </tr>\n",
       "  </thead>\n",
       "  <tbody>\n",
       "    <tr>\n",
       "      <th>0</th>\n",
       "      <td>1992-01-02</td>\n",
       "      <td>3152.100098</td>\n",
       "      <td>3172.629883</td>\n",
       "      <td>3139.310059</td>\n",
       "      <td>3172.399902</td>\n",
       "      <td>3172.399902</td>\n",
       "      <td>23550000</td>\n",
       "      <td>^DJI</td>\n",
       "    </tr>\n",
       "    <tr>\n",
       "      <th>1</th>\n",
       "      <td>1992-01-03</td>\n",
       "      <td>3172.399902</td>\n",
       "      <td>3210.639893</td>\n",
       "      <td>3165.919922</td>\n",
       "      <td>3201.500000</td>\n",
       "      <td>3201.500000</td>\n",
       "      <td>23620000</td>\n",
       "      <td>^DJI</td>\n",
       "    </tr>\n",
       "    <tr>\n",
       "      <th>2</th>\n",
       "      <td>1992-01-06</td>\n",
       "      <td>3201.500000</td>\n",
       "      <td>3213.330078</td>\n",
       "      <td>3191.860107</td>\n",
       "      <td>3200.100098</td>\n",
       "      <td>3200.100098</td>\n",
       "      <td>27280000</td>\n",
       "      <td>^DJI</td>\n",
       "    </tr>\n",
       "    <tr>\n",
       "      <th>3</th>\n",
       "      <td>1992-01-07</td>\n",
       "      <td>3200.100098</td>\n",
       "      <td>3210.199951</td>\n",
       "      <td>3184.479980</td>\n",
       "      <td>3204.800049</td>\n",
       "      <td>3204.800049</td>\n",
       "      <td>25510000</td>\n",
       "      <td>^DJI</td>\n",
       "    </tr>\n",
       "    <tr>\n",
       "      <th>4</th>\n",
       "      <td>1992-01-08</td>\n",
       "      <td>3204.800049</td>\n",
       "      <td>3229.199951</td>\n",
       "      <td>3185.820068</td>\n",
       "      <td>3203.899902</td>\n",
       "      <td>3203.899902</td>\n",
       "      <td>29040000</td>\n",
       "      <td>^DJI</td>\n",
       "    </tr>\n",
       "  </tbody>\n",
       "</table>\n",
       "</div>"
      ],
      "text/plain": [
       "        Date         Open         High          Low        Close    Adj Close  \\\n",
       "0 1992-01-02  3152.100098  3172.629883  3139.310059  3172.399902  3172.399902   \n",
       "1 1992-01-03  3172.399902  3210.639893  3165.919922  3201.500000  3201.500000   \n",
       "2 1992-01-06  3201.500000  3213.330078  3191.860107  3200.100098  3200.100098   \n",
       "3 1992-01-07  3200.100098  3210.199951  3184.479980  3204.800049  3204.800049   \n",
       "4 1992-01-08  3204.800049  3229.199951  3185.820068  3203.899902  3203.899902   \n",
       "\n",
       "     Volume Symbol  \n",
       "0  23550000   ^DJI  \n",
       "1  23620000   ^DJI  \n",
       "2  27280000   ^DJI  \n",
       "3  25510000   ^DJI  \n",
       "4  29040000   ^DJI  "
      ]
     },
     "execution_count": 39,
     "metadata": {},
     "output_type": "execute_result"
    }
   ],
   "source": [
    "merge_index_price_data.head()"
   ]
  },
  {
   "cell_type": "code",
   "execution_count": 40,
   "metadata": {},
   "outputs": [
    {
     "data": {
      "text/plain": [
       "(39044, 8)"
      ]
     },
     "execution_count": 40,
     "metadata": {},
     "output_type": "execute_result"
    }
   ],
   "source": [
    "merge_index_price_data.shape"
   ]
  },
  {
   "cell_type": "markdown",
   "metadata": {},
   "source": [
    "# 5. Create database & import data into DJIA table"
   ]
  },
  {
   "cell_type": "code",
   "execution_count": 41,
   "metadata": {},
   "outputs": [
    {
     "name": "stdout",
     "output_type": "stream",
     "text": [
      "Successfully imported data\n"
     ]
    }
   ],
   "source": [
    "stockengine = createengine('StockDatabase')\n",
    "toSQL(new_USDOWJONES, \"DJIA\", stockengine)"
   ]
  },
  {
   "cell_type": "code",
   "execution_count": 42,
   "metadata": {},
   "outputs": [
    {
     "name": "stdout",
     "output_type": "stream",
     "text": [
      "Successfully imported data\n"
     ]
    }
   ],
   "source": [
    "#Create new table to the database\n",
    "toSQL(new_TSX60, \"TSX60\", stockengine)"
   ]
  },
  {
   "cell_type": "code",
   "execution_count": 43,
   "metadata": {},
   "outputs": [
    {
     "name": "stdout",
     "output_type": "stream",
     "text": [
      "Successfully imported data\n"
     ]
    }
   ],
   "source": [
    "toSQL(subTSX_Fundamental, \"TSX60Fundamental\", stockengine)"
   ]
  },
  {
   "cell_type": "code",
   "execution_count": 44,
   "metadata": {},
   "outputs": [
    {
     "name": "stdout",
     "output_type": "stream",
     "text": [
      "Successfully imported data\n"
     ]
    }
   ],
   "source": [
    "toSQL(subDOWFundamental, \"DOWFundamental\", stockengine)"
   ]
  },
  {
   "cell_type": "code",
   "execution_count": 45,
   "metadata": {},
   "outputs": [
    {
     "name": "stdout",
     "output_type": "stream",
     "text": [
      "Successfully imported data\n"
     ]
    }
   ],
   "source": [
    "toSQL(merge_index_price_data, \"markets\", stockengine)"
   ]
  },
  {
   "cell_type": "markdown",
   "metadata": {},
   "source": []
  }
 ],
 "metadata": {
  "kernelspec": {
   "display_name": "Python 3.10.6 ('myenv_ds')",
   "language": "python",
   "name": "python3"
  },
  "language_info": {
   "codemirror_mode": {
    "name": "ipython",
    "version": 3
   },
   "file_extension": ".py",
   "mimetype": "text/x-python",
   "name": "python",
   "nbconvert_exporter": "python",
   "pygments_lexer": "ipython3",
   "version": "3.10.6"
  },
  "orig_nbformat": 4,
  "vscode": {
   "interpreter": {
    "hash": "8487bc423e1672b6e34bd450aa0cc4ac849f14523c362ca351dbb3d5db860be2"
   }
  }
 },
 "nbformat": 4,
 "nbformat_minor": 2
}
